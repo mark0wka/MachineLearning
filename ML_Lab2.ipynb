{
 "cells": [
  {
   "cell_type": "code",
   "execution_count": 42,
   "id": "14bcac8f",
   "metadata": {},
   "outputs": [],
   "source": [
    "import numpy as np\n",
    "import matplotlib.pyplot as plt\n",
    "%matplotlib inline\n",
    "import pandas as pd\n",
    "import seaborn as sns\n",
    "import sklearn\n",
    "import warnings\n",
    "warnings.filterwarnings('ignore')"
   ]
  },
  {
   "cell_type": "markdown",
   "id": "26de0917",
   "metadata": {},
   "source": [
    "1. Анализируем датасет \"CS:GO Round Snapshot\", в котором собраны различные данные раундов игры с разных карт."
   ]
  },
  {
   "cell_type": "markdown",
   "id": "f5348819",
   "metadata": {},
   "source": [
    "2. Загружаем датасет:"
   ]
  },
  {
   "cell_type": "code",
   "execution_count": 43,
   "id": "1047e513",
   "metadata": {},
   "outputs": [
    {
     "data": {
      "text/plain": [
       "(122410, 97)"
      ]
     },
     "execution_count": 43,
     "metadata": {},
     "output_type": "execute_result"
    }
   ],
   "source": [
    "url = \"https://raw.githubusercontent.com/mark0wka/MachineLearning/master/csgo_round_snapshots.csv\"\n",
    "data_raw = pd.read_csv(url)\n",
    "data_raw.shape"
   ]
  },
  {
   "cell_type": "markdown",
   "id": "3d80520c",
   "metadata": {},
   "source": [
    "3. Визуализируем данные:"
   ]
  },
  {
   "cell_type": "code",
   "execution_count": 44,
   "id": "b0099abf",
   "metadata": {},
   "outputs": [
    {
     "data": {
      "text/html": [
       "<div>\n",
       "<style scoped>\n",
       "    .dataframe tbody tr th:only-of-type {\n",
       "        vertical-align: middle;\n",
       "    }\n",
       "\n",
       "    .dataframe tbody tr th {\n",
       "        vertical-align: top;\n",
       "    }\n",
       "\n",
       "    .dataframe thead th {\n",
       "        text-align: right;\n",
       "    }\n",
       "</style>\n",
       "<table border=\"1\" class=\"dataframe\">\n",
       "  <thead>\n",
       "    <tr style=\"text-align: right;\">\n",
       "      <th></th>\n",
       "      <th>time_left</th>\n",
       "      <th>ct_score</th>\n",
       "      <th>t_score</th>\n",
       "      <th>map</th>\n",
       "      <th>bomb_planted</th>\n",
       "      <th>ct_health</th>\n",
       "      <th>t_health</th>\n",
       "      <th>ct_armor</th>\n",
       "      <th>t_armor</th>\n",
       "      <th>ct_money</th>\n",
       "      <th>...</th>\n",
       "      <th>t_grenade_flashbang</th>\n",
       "      <th>ct_grenade_smokegrenade</th>\n",
       "      <th>t_grenade_smokegrenade</th>\n",
       "      <th>ct_grenade_incendiarygrenade</th>\n",
       "      <th>t_grenade_incendiarygrenade</th>\n",
       "      <th>ct_grenade_molotovgrenade</th>\n",
       "      <th>t_grenade_molotovgrenade</th>\n",
       "      <th>ct_grenade_decoygrenade</th>\n",
       "      <th>t_grenade_decoygrenade</th>\n",
       "      <th>round_winner</th>\n",
       "    </tr>\n",
       "  </thead>\n",
       "  <tbody>\n",
       "    <tr>\n",
       "      <th>0</th>\n",
       "      <td>175.00</td>\n",
       "      <td>0.0</td>\n",
       "      <td>0.0</td>\n",
       "      <td>de_dust2</td>\n",
       "      <td>False</td>\n",
       "      <td>500.0</td>\n",
       "      <td>500.0</td>\n",
       "      <td>0.0</td>\n",
       "      <td>0.0</td>\n",
       "      <td>4000.0</td>\n",
       "      <td>...</td>\n",
       "      <td>0.0</td>\n",
       "      <td>0.0</td>\n",
       "      <td>0.0</td>\n",
       "      <td>0.0</td>\n",
       "      <td>0.0</td>\n",
       "      <td>0.0</td>\n",
       "      <td>0.0</td>\n",
       "      <td>0.0</td>\n",
       "      <td>0.0</td>\n",
       "      <td>CT</td>\n",
       "    </tr>\n",
       "    <tr>\n",
       "      <th>1</th>\n",
       "      <td>156.03</td>\n",
       "      <td>0.0</td>\n",
       "      <td>0.0</td>\n",
       "      <td>de_dust2</td>\n",
       "      <td>False</td>\n",
       "      <td>500.0</td>\n",
       "      <td>500.0</td>\n",
       "      <td>400.0</td>\n",
       "      <td>300.0</td>\n",
       "      <td>600.0</td>\n",
       "      <td>...</td>\n",
       "      <td>0.0</td>\n",
       "      <td>0.0</td>\n",
       "      <td>2.0</td>\n",
       "      <td>0.0</td>\n",
       "      <td>0.0</td>\n",
       "      <td>0.0</td>\n",
       "      <td>0.0</td>\n",
       "      <td>0.0</td>\n",
       "      <td>0.0</td>\n",
       "      <td>CT</td>\n",
       "    </tr>\n",
       "    <tr>\n",
       "      <th>2</th>\n",
       "      <td>96.03</td>\n",
       "      <td>0.0</td>\n",
       "      <td>0.0</td>\n",
       "      <td>de_dust2</td>\n",
       "      <td>False</td>\n",
       "      <td>391.0</td>\n",
       "      <td>400.0</td>\n",
       "      <td>294.0</td>\n",
       "      <td>200.0</td>\n",
       "      <td>750.0</td>\n",
       "      <td>...</td>\n",
       "      <td>0.0</td>\n",
       "      <td>0.0</td>\n",
       "      <td>2.0</td>\n",
       "      <td>0.0</td>\n",
       "      <td>0.0</td>\n",
       "      <td>0.0</td>\n",
       "      <td>0.0</td>\n",
       "      <td>0.0</td>\n",
       "      <td>0.0</td>\n",
       "      <td>CT</td>\n",
       "    </tr>\n",
       "    <tr>\n",
       "      <th>3</th>\n",
       "      <td>76.03</td>\n",
       "      <td>0.0</td>\n",
       "      <td>0.0</td>\n",
       "      <td>de_dust2</td>\n",
       "      <td>False</td>\n",
       "      <td>391.0</td>\n",
       "      <td>400.0</td>\n",
       "      <td>294.0</td>\n",
       "      <td>200.0</td>\n",
       "      <td>750.0</td>\n",
       "      <td>...</td>\n",
       "      <td>0.0</td>\n",
       "      <td>0.0</td>\n",
       "      <td>0.0</td>\n",
       "      <td>0.0</td>\n",
       "      <td>0.0</td>\n",
       "      <td>0.0</td>\n",
       "      <td>0.0</td>\n",
       "      <td>0.0</td>\n",
       "      <td>0.0</td>\n",
       "      <td>CT</td>\n",
       "    </tr>\n",
       "    <tr>\n",
       "      <th>4</th>\n",
       "      <td>174.97</td>\n",
       "      <td>1.0</td>\n",
       "      <td>0.0</td>\n",
       "      <td>de_dust2</td>\n",
       "      <td>False</td>\n",
       "      <td>500.0</td>\n",
       "      <td>500.0</td>\n",
       "      <td>192.0</td>\n",
       "      <td>0.0</td>\n",
       "      <td>18350.0</td>\n",
       "      <td>...</td>\n",
       "      <td>0.0</td>\n",
       "      <td>0.0</td>\n",
       "      <td>0.0</td>\n",
       "      <td>0.0</td>\n",
       "      <td>0.0</td>\n",
       "      <td>0.0</td>\n",
       "      <td>0.0</td>\n",
       "      <td>0.0</td>\n",
       "      <td>0.0</td>\n",
       "      <td>CT</td>\n",
       "    </tr>\n",
       "  </tbody>\n",
       "</table>\n",
       "<p>5 rows × 97 columns</p>\n",
       "</div>"
      ],
      "text/plain": [
       "   time_left  ct_score  t_score       map  bomb_planted  ct_health  t_health  \\\n",
       "0     175.00       0.0      0.0  de_dust2         False      500.0     500.0   \n",
       "1     156.03       0.0      0.0  de_dust2         False      500.0     500.0   \n",
       "2      96.03       0.0      0.0  de_dust2         False      391.0     400.0   \n",
       "3      76.03       0.0      0.0  de_dust2         False      391.0     400.0   \n",
       "4     174.97       1.0      0.0  de_dust2         False      500.0     500.0   \n",
       "\n",
       "   ct_armor  t_armor  ct_money  ...  t_grenade_flashbang  \\\n",
       "0       0.0      0.0    4000.0  ...                  0.0   \n",
       "1     400.0    300.0     600.0  ...                  0.0   \n",
       "2     294.0    200.0     750.0  ...                  0.0   \n",
       "3     294.0    200.0     750.0  ...                  0.0   \n",
       "4     192.0      0.0   18350.0  ...                  0.0   \n",
       "\n",
       "   ct_grenade_smokegrenade  t_grenade_smokegrenade  \\\n",
       "0                      0.0                     0.0   \n",
       "1                      0.0                     2.0   \n",
       "2                      0.0                     2.0   \n",
       "3                      0.0                     0.0   \n",
       "4                      0.0                     0.0   \n",
       "\n",
       "   ct_grenade_incendiarygrenade  t_grenade_incendiarygrenade  \\\n",
       "0                           0.0                          0.0   \n",
       "1                           0.0                          0.0   \n",
       "2                           0.0                          0.0   \n",
       "3                           0.0                          0.0   \n",
       "4                           0.0                          0.0   \n",
       "\n",
       "   ct_grenade_molotovgrenade  t_grenade_molotovgrenade  \\\n",
       "0                        0.0                       0.0   \n",
       "1                        0.0                       0.0   \n",
       "2                        0.0                       0.0   \n",
       "3                        0.0                       0.0   \n",
       "4                        0.0                       0.0   \n",
       "\n",
       "   ct_grenade_decoygrenade  t_grenade_decoygrenade  round_winner  \n",
       "0                      0.0                     0.0            CT  \n",
       "1                      0.0                     0.0            CT  \n",
       "2                      0.0                     0.0            CT  \n",
       "3                      0.0                     0.0            CT  \n",
       "4                      0.0                     0.0            CT  \n",
       "\n",
       "[5 rows x 97 columns]"
      ]
     },
     "execution_count": 44,
     "metadata": {},
     "output_type": "execute_result"
    }
   ],
   "source": [
    "data_raw.head()"
   ]
  },
  {
   "cell_type": "code",
   "execution_count": 45,
   "id": "4cfd61d1",
   "metadata": {},
   "outputs": [
    {
     "data": {
      "text/html": [
       "<div>\n",
       "<style scoped>\n",
       "    .dataframe tbody tr th:only-of-type {\n",
       "        vertical-align: middle;\n",
       "    }\n",
       "\n",
       "    .dataframe tbody tr th {\n",
       "        vertical-align: top;\n",
       "    }\n",
       "\n",
       "    .dataframe thead th {\n",
       "        text-align: right;\n",
       "    }\n",
       "</style>\n",
       "<table border=\"1\" class=\"dataframe\">\n",
       "  <thead>\n",
       "    <tr style=\"text-align: right;\">\n",
       "      <th></th>\n",
       "      <th>time_left</th>\n",
       "      <th>ct_score</th>\n",
       "      <th>t_score</th>\n",
       "      <th>map</th>\n",
       "      <th>bomb_planted</th>\n",
       "      <th>ct_health</th>\n",
       "      <th>t_health</th>\n",
       "      <th>ct_armor</th>\n",
       "      <th>t_armor</th>\n",
       "      <th>ct_money</th>\n",
       "      <th>...</th>\n",
       "      <th>t_grenade_flashbang</th>\n",
       "      <th>ct_grenade_smokegrenade</th>\n",
       "      <th>t_grenade_smokegrenade</th>\n",
       "      <th>ct_grenade_incendiarygrenade</th>\n",
       "      <th>t_grenade_incendiarygrenade</th>\n",
       "      <th>ct_grenade_molotovgrenade</th>\n",
       "      <th>t_grenade_molotovgrenade</th>\n",
       "      <th>ct_grenade_decoygrenade</th>\n",
       "      <th>t_grenade_decoygrenade</th>\n",
       "      <th>round_winner</th>\n",
       "    </tr>\n",
       "  </thead>\n",
       "  <tbody>\n",
       "    <tr>\n",
       "      <th>122405</th>\n",
       "      <td>15.41</td>\n",
       "      <td>11.0</td>\n",
       "      <td>14.0</td>\n",
       "      <td>de_train</td>\n",
       "      <td>True</td>\n",
       "      <td>200.0</td>\n",
       "      <td>242.0</td>\n",
       "      <td>195.0</td>\n",
       "      <td>359.0</td>\n",
       "      <td>100.0</td>\n",
       "      <td>...</td>\n",
       "      <td>2.0</td>\n",
       "      <td>1.0</td>\n",
       "      <td>1.0</td>\n",
       "      <td>0.0</td>\n",
       "      <td>0.0</td>\n",
       "      <td>0.0</td>\n",
       "      <td>0.0</td>\n",
       "      <td>0.0</td>\n",
       "      <td>0.0</td>\n",
       "      <td>T</td>\n",
       "    </tr>\n",
       "    <tr>\n",
       "      <th>122406</th>\n",
       "      <td>174.93</td>\n",
       "      <td>11.0</td>\n",
       "      <td>15.0</td>\n",
       "      <td>de_train</td>\n",
       "      <td>False</td>\n",
       "      <td>500.0</td>\n",
       "      <td>500.0</td>\n",
       "      <td>95.0</td>\n",
       "      <td>175.0</td>\n",
       "      <td>11500.0</td>\n",
       "      <td>...</td>\n",
       "      <td>2.0</td>\n",
       "      <td>1.0</td>\n",
       "      <td>0.0</td>\n",
       "      <td>0.0</td>\n",
       "      <td>0.0</td>\n",
       "      <td>0.0</td>\n",
       "      <td>0.0</td>\n",
       "      <td>0.0</td>\n",
       "      <td>0.0</td>\n",
       "      <td>T</td>\n",
       "    </tr>\n",
       "    <tr>\n",
       "      <th>122407</th>\n",
       "      <td>114.93</td>\n",
       "      <td>11.0</td>\n",
       "      <td>15.0</td>\n",
       "      <td>de_train</td>\n",
       "      <td>False</td>\n",
       "      <td>500.0</td>\n",
       "      <td>500.0</td>\n",
       "      <td>495.0</td>\n",
       "      <td>475.0</td>\n",
       "      <td>1200.0</td>\n",
       "      <td>...</td>\n",
       "      <td>4.0</td>\n",
       "      <td>3.0</td>\n",
       "      <td>5.0</td>\n",
       "      <td>1.0</td>\n",
       "      <td>0.0</td>\n",
       "      <td>0.0</td>\n",
       "      <td>5.0</td>\n",
       "      <td>0.0</td>\n",
       "      <td>0.0</td>\n",
       "      <td>T</td>\n",
       "    </tr>\n",
       "    <tr>\n",
       "      <th>122408</th>\n",
       "      <td>94.93</td>\n",
       "      <td>11.0</td>\n",
       "      <td>15.0</td>\n",
       "      <td>de_train</td>\n",
       "      <td>False</td>\n",
       "      <td>500.0</td>\n",
       "      <td>500.0</td>\n",
       "      <td>495.0</td>\n",
       "      <td>475.0</td>\n",
       "      <td>1200.0</td>\n",
       "      <td>...</td>\n",
       "      <td>5.0</td>\n",
       "      <td>0.0</td>\n",
       "      <td>3.0</td>\n",
       "      <td>0.0</td>\n",
       "      <td>0.0</td>\n",
       "      <td>0.0</td>\n",
       "      <td>4.0</td>\n",
       "      <td>0.0</td>\n",
       "      <td>0.0</td>\n",
       "      <td>T</td>\n",
       "    </tr>\n",
       "    <tr>\n",
       "      <th>122409</th>\n",
       "      <td>74.93</td>\n",
       "      <td>11.0</td>\n",
       "      <td>15.0</td>\n",
       "      <td>de_train</td>\n",
       "      <td>False</td>\n",
       "      <td>375.0</td>\n",
       "      <td>479.0</td>\n",
       "      <td>395.0</td>\n",
       "      <td>466.0</td>\n",
       "      <td>1100.0</td>\n",
       "      <td>...</td>\n",
       "      <td>3.0</td>\n",
       "      <td>0.0</td>\n",
       "      <td>2.0</td>\n",
       "      <td>0.0</td>\n",
       "      <td>0.0</td>\n",
       "      <td>0.0</td>\n",
       "      <td>3.0</td>\n",
       "      <td>0.0</td>\n",
       "      <td>0.0</td>\n",
       "      <td>T</td>\n",
       "    </tr>\n",
       "  </tbody>\n",
       "</table>\n",
       "<p>5 rows × 97 columns</p>\n",
       "</div>"
      ],
      "text/plain": [
       "        time_left  ct_score  t_score       map  bomb_planted  ct_health  \\\n",
       "122405      15.41      11.0     14.0  de_train          True      200.0   \n",
       "122406     174.93      11.0     15.0  de_train         False      500.0   \n",
       "122407     114.93      11.0     15.0  de_train         False      500.0   \n",
       "122408      94.93      11.0     15.0  de_train         False      500.0   \n",
       "122409      74.93      11.0     15.0  de_train         False      375.0   \n",
       "\n",
       "        t_health  ct_armor  t_armor  ct_money  ...  t_grenade_flashbang  \\\n",
       "122405     242.0     195.0    359.0     100.0  ...                  2.0   \n",
       "122406     500.0      95.0    175.0   11500.0  ...                  2.0   \n",
       "122407     500.0     495.0    475.0    1200.0  ...                  4.0   \n",
       "122408     500.0     495.0    475.0    1200.0  ...                  5.0   \n",
       "122409     479.0     395.0    466.0    1100.0  ...                  3.0   \n",
       "\n",
       "        ct_grenade_smokegrenade  t_grenade_smokegrenade  \\\n",
       "122405                      1.0                     1.0   \n",
       "122406                      1.0                     0.0   \n",
       "122407                      3.0                     5.0   \n",
       "122408                      0.0                     3.0   \n",
       "122409                      0.0                     2.0   \n",
       "\n",
       "        ct_grenade_incendiarygrenade  t_grenade_incendiarygrenade  \\\n",
       "122405                           0.0                          0.0   \n",
       "122406                           0.0                          0.0   \n",
       "122407                           1.0                          0.0   \n",
       "122408                           0.0                          0.0   \n",
       "122409                           0.0                          0.0   \n",
       "\n",
       "        ct_grenade_molotovgrenade  t_grenade_molotovgrenade  \\\n",
       "122405                        0.0                       0.0   \n",
       "122406                        0.0                       0.0   \n",
       "122407                        0.0                       5.0   \n",
       "122408                        0.0                       4.0   \n",
       "122409                        0.0                       3.0   \n",
       "\n",
       "        ct_grenade_decoygrenade  t_grenade_decoygrenade  round_winner  \n",
       "122405                      0.0                     0.0             T  \n",
       "122406                      0.0                     0.0             T  \n",
       "122407                      0.0                     0.0             T  \n",
       "122408                      0.0                     0.0             T  \n",
       "122409                      0.0                     0.0             T  \n",
       "\n",
       "[5 rows x 97 columns]"
      ]
     },
     "execution_count": 45,
     "metadata": {},
     "output_type": "execute_result"
    }
   ],
   "source": [
    "data_raw.tail()"
   ]
  },
  {
   "cell_type": "code",
   "execution_count": 46,
   "id": "c81cc3bd",
   "metadata": {},
   "outputs": [
    {
     "data": {
      "text/plain": [
       "Index(['time_left', 'ct_score', 't_score', 'map', 'bomb_planted', 'ct_health',\n",
       "       't_health', 'ct_armor', 't_armor', 'ct_money', 't_money', 'ct_helmets',\n",
       "       't_helmets', 'ct_defuse_kits', 'ct_players_alive', 't_players_alive',\n",
       "       'ct_weapon_ak47', 't_weapon_ak47', 'ct_weapon_aug', 't_weapon_aug',\n",
       "       'ct_weapon_awp', 't_weapon_awp', 'ct_weapon_bizon', 't_weapon_bizon',\n",
       "       'ct_weapon_cz75auto', 't_weapon_cz75auto', 'ct_weapon_elite',\n",
       "       't_weapon_elite', 'ct_weapon_famas', 't_weapon_famas',\n",
       "       'ct_weapon_g3sg1', 't_weapon_g3sg1', 'ct_weapon_galilar',\n",
       "       't_weapon_galilar', 'ct_weapon_glock', 't_weapon_glock',\n",
       "       'ct_weapon_m249', 't_weapon_m249', 'ct_weapon_m4a1s', 't_weapon_m4a1s',\n",
       "       'ct_weapon_m4a4', 't_weapon_m4a4', 'ct_weapon_mac10', 't_weapon_mac10',\n",
       "       'ct_weapon_mag7', 't_weapon_mag7', 'ct_weapon_mp5sd', 't_weapon_mp5sd',\n",
       "       'ct_weapon_mp7', 't_weapon_mp7', 'ct_weapon_mp9', 't_weapon_mp9',\n",
       "       'ct_weapon_negev', 't_weapon_negev', 'ct_weapon_nova', 't_weapon_nova',\n",
       "       'ct_weapon_p90', 't_weapon_p90', 'ct_weapon_r8revolver',\n",
       "       't_weapon_r8revolver', 'ct_weapon_sawedoff', 't_weapon_sawedoff',\n",
       "       'ct_weapon_scar20', 't_weapon_scar20', 'ct_weapon_sg553',\n",
       "       't_weapon_sg553', 'ct_weapon_ssg08', 't_weapon_ssg08',\n",
       "       'ct_weapon_ump45', 't_weapon_ump45', 'ct_weapon_xm1014',\n",
       "       't_weapon_xm1014', 'ct_weapon_deagle', 't_weapon_deagle',\n",
       "       'ct_weapon_fiveseven', 't_weapon_fiveseven', 'ct_weapon_usps',\n",
       "       't_weapon_usps', 'ct_weapon_p250', 't_weapon_p250', 'ct_weapon_p2000',\n",
       "       't_weapon_p2000', 'ct_weapon_tec9', 't_weapon_tec9',\n",
       "       'ct_grenade_hegrenade', 't_grenade_hegrenade', 'ct_grenade_flashbang',\n",
       "       't_grenade_flashbang', 'ct_grenade_smokegrenade',\n",
       "       't_grenade_smokegrenade', 'ct_grenade_incendiarygrenade',\n",
       "       't_grenade_incendiarygrenade', 'ct_grenade_molotovgrenade',\n",
       "       't_grenade_molotovgrenade', 'ct_grenade_decoygrenade',\n",
       "       't_grenade_decoygrenade', 'round_winner'],\n",
       "      dtype='object')"
      ]
     },
     "execution_count": 46,
     "metadata": {},
     "output_type": "execute_result"
    }
   ],
   "source": [
    "data_raw.columns"
   ]
  },
  {
   "cell_type": "code",
   "execution_count": 47,
   "id": "d992aae1",
   "metadata": {},
   "outputs": [
    {
     "data": {
      "text/plain": [
       "RangeIndex(start=0, stop=122410, step=1)"
      ]
     },
     "execution_count": 47,
     "metadata": {},
     "output_type": "execute_result"
    }
   ],
   "source": [
    "data_raw.index"
   ]
  },
  {
   "cell_type": "markdown",
   "id": "64adfd88",
   "metadata": {},
   "source": [
    "Приведем столбцы к категориальному типу и получим основные характеристики ( среднее значение, стандартное отклонение, минимальное и максимальное значение, количество ненулевых элементов и т.д.) по столбцам."
   ]
  },
  {
   "cell_type": "code",
   "execution_count": 48,
   "id": "e1bffc2b",
   "metadata": {},
   "outputs": [
    {
     "data": {
      "text/plain": [
       "T     62406\n",
       "CT    60004\n",
       "Name: round_winner, dtype: int64"
      ]
     },
     "execution_count": 48,
     "metadata": {},
     "output_type": "execute_result"
    }
   ],
   "source": [
    "data_raw['map'] = data_raw['map'].astype('category')\n",
    "data_raw['bomb_planted'] = data_raw['bomb_planted'].astype('category')\n",
    "data_raw['round_winner'] = data_raw['round_winner'].astype('category')\n",
    "data_raw['round_winner'].dtype\n",
    "data_raw['round_winner'].value_counts()"
   ]
  },
  {
   "cell_type": "code",
   "execution_count": 49,
   "id": "889de658",
   "metadata": {},
   "outputs": [
    {
     "data": {
      "text/html": [
       "<div>\n",
       "<style scoped>\n",
       "    .dataframe tbody tr th:only-of-type {\n",
       "        vertical-align: middle;\n",
       "    }\n",
       "\n",
       "    .dataframe tbody tr th {\n",
       "        vertical-align: top;\n",
       "    }\n",
       "\n",
       "    .dataframe thead th {\n",
       "        text-align: right;\n",
       "    }\n",
       "</style>\n",
       "<table border=\"1\" class=\"dataframe\">\n",
       "  <thead>\n",
       "    <tr style=\"text-align: right;\">\n",
       "      <th></th>\n",
       "      <th>time_left</th>\n",
       "      <th>ct_score</th>\n",
       "      <th>t_score</th>\n",
       "      <th>ct_health</th>\n",
       "      <th>t_health</th>\n",
       "      <th>ct_armor</th>\n",
       "      <th>t_armor</th>\n",
       "      <th>ct_money</th>\n",
       "      <th>t_money</th>\n",
       "      <th>ct_helmets</th>\n",
       "      <th>...</th>\n",
       "      <th>ct_grenade_flashbang</th>\n",
       "      <th>t_grenade_flashbang</th>\n",
       "      <th>ct_grenade_smokegrenade</th>\n",
       "      <th>t_grenade_smokegrenade</th>\n",
       "      <th>ct_grenade_incendiarygrenade</th>\n",
       "      <th>t_grenade_incendiarygrenade</th>\n",
       "      <th>ct_grenade_molotovgrenade</th>\n",
       "      <th>t_grenade_molotovgrenade</th>\n",
       "      <th>ct_grenade_decoygrenade</th>\n",
       "      <th>t_grenade_decoygrenade</th>\n",
       "    </tr>\n",
       "  </thead>\n",
       "  <tbody>\n",
       "    <tr>\n",
       "      <th>count</th>\n",
       "      <td>122410.000000</td>\n",
       "      <td>122410.000000</td>\n",
       "      <td>122410.000000</td>\n",
       "      <td>122410.000000</td>\n",
       "      <td>122410.000000</td>\n",
       "      <td>122410.000000</td>\n",
       "      <td>122410.000000</td>\n",
       "      <td>122410.000000</td>\n",
       "      <td>122410.000000</td>\n",
       "      <td>122410.000000</td>\n",
       "      <td>...</td>\n",
       "      <td>122410.000000</td>\n",
       "      <td>122410.000000</td>\n",
       "      <td>122410.000000</td>\n",
       "      <td>122410.000000</td>\n",
       "      <td>122410.000000</td>\n",
       "      <td>122410.000000</td>\n",
       "      <td>122410.000000</td>\n",
       "      <td>122410.000000</td>\n",
       "      <td>122410.000000</td>\n",
       "      <td>122410.000000</td>\n",
       "    </tr>\n",
       "    <tr>\n",
       "      <th>mean</th>\n",
       "      <td>97.886922</td>\n",
       "      <td>6.709239</td>\n",
       "      <td>6.780435</td>\n",
       "      <td>412.106568</td>\n",
       "      <td>402.714500</td>\n",
       "      <td>314.142121</td>\n",
       "      <td>298.444670</td>\n",
       "      <td>9789.023773</td>\n",
       "      <td>11241.036680</td>\n",
       "      <td>2.053901</td>\n",
       "      <td>...</td>\n",
       "      <td>1.853157</td>\n",
       "      <td>1.858100</td>\n",
       "      <td>1.540814</td>\n",
       "      <td>1.627146</td>\n",
       "      <td>1.001969</td>\n",
       "      <td>0.019819</td>\n",
       "      <td>0.048011</td>\n",
       "      <td>1.352095</td>\n",
       "      <td>0.027694</td>\n",
       "      <td>0.025750</td>\n",
       "    </tr>\n",
       "    <tr>\n",
       "      <th>std</th>\n",
       "      <td>54.465238</td>\n",
       "      <td>4.790362</td>\n",
       "      <td>4.823543</td>\n",
       "      <td>132.293290</td>\n",
       "      <td>139.919033</td>\n",
       "      <td>171.029736</td>\n",
       "      <td>174.576545</td>\n",
       "      <td>11215.042286</td>\n",
       "      <td>12162.806759</td>\n",
       "      <td>1.841470</td>\n",
       "      <td>...</td>\n",
       "      <td>1.772791</td>\n",
       "      <td>1.794473</td>\n",
       "      <td>1.737804</td>\n",
       "      <td>1.829147</td>\n",
       "      <td>1.458084</td>\n",
       "      <td>0.143933</td>\n",
       "      <td>0.227669</td>\n",
       "      <td>1.663246</td>\n",
       "      <td>0.169531</td>\n",
       "      <td>0.164162</td>\n",
       "    </tr>\n",
       "    <tr>\n",
       "      <th>min</th>\n",
       "      <td>0.010000</td>\n",
       "      <td>0.000000</td>\n",
       "      <td>0.000000</td>\n",
       "      <td>0.000000</td>\n",
       "      <td>0.000000</td>\n",
       "      <td>0.000000</td>\n",
       "      <td>0.000000</td>\n",
       "      <td>0.000000</td>\n",
       "      <td>0.000000</td>\n",
       "      <td>0.000000</td>\n",
       "      <td>...</td>\n",
       "      <td>0.000000</td>\n",
       "      <td>0.000000</td>\n",
       "      <td>0.000000</td>\n",
       "      <td>0.000000</td>\n",
       "      <td>0.000000</td>\n",
       "      <td>0.000000</td>\n",
       "      <td>0.000000</td>\n",
       "      <td>0.000000</td>\n",
       "      <td>0.000000</td>\n",
       "      <td>0.000000</td>\n",
       "    </tr>\n",
       "    <tr>\n",
       "      <th>25%</th>\n",
       "      <td>54.920000</td>\n",
       "      <td>3.000000</td>\n",
       "      <td>3.000000</td>\n",
       "      <td>350.000000</td>\n",
       "      <td>322.000000</td>\n",
       "      <td>194.000000</td>\n",
       "      <td>174.000000</td>\n",
       "      <td>1300.000000</td>\n",
       "      <td>1550.000000</td>\n",
       "      <td>0.000000</td>\n",
       "      <td>...</td>\n",
       "      <td>0.000000</td>\n",
       "      <td>0.000000</td>\n",
       "      <td>0.000000</td>\n",
       "      <td>0.000000</td>\n",
       "      <td>0.000000</td>\n",
       "      <td>0.000000</td>\n",
       "      <td>0.000000</td>\n",
       "      <td>0.000000</td>\n",
       "      <td>0.000000</td>\n",
       "      <td>0.000000</td>\n",
       "    </tr>\n",
       "    <tr>\n",
       "      <th>50%</th>\n",
       "      <td>94.910000</td>\n",
       "      <td>6.000000</td>\n",
       "      <td>6.000000</td>\n",
       "      <td>500.000000</td>\n",
       "      <td>500.000000</td>\n",
       "      <td>377.000000</td>\n",
       "      <td>334.000000</td>\n",
       "      <td>5500.000000</td>\n",
       "      <td>7150.000000</td>\n",
       "      <td>2.000000</td>\n",
       "      <td>...</td>\n",
       "      <td>1.000000</td>\n",
       "      <td>1.000000</td>\n",
       "      <td>1.000000</td>\n",
       "      <td>1.000000</td>\n",
       "      <td>0.000000</td>\n",
       "      <td>0.000000</td>\n",
       "      <td>0.000000</td>\n",
       "      <td>1.000000</td>\n",
       "      <td>0.000000</td>\n",
       "      <td>0.000000</td>\n",
       "    </tr>\n",
       "    <tr>\n",
       "      <th>75%</th>\n",
       "      <td>166.917500</td>\n",
       "      <td>10.000000</td>\n",
       "      <td>10.000000</td>\n",
       "      <td>500.000000</td>\n",
       "      <td>500.000000</td>\n",
       "      <td>486.000000</td>\n",
       "      <td>468.000000</td>\n",
       "      <td>14600.000000</td>\n",
       "      <td>18000.000000</td>\n",
       "      <td>4.000000</td>\n",
       "      <td>...</td>\n",
       "      <td>3.000000</td>\n",
       "      <td>3.000000</td>\n",
       "      <td>3.000000</td>\n",
       "      <td>3.000000</td>\n",
       "      <td>2.000000</td>\n",
       "      <td>0.000000</td>\n",
       "      <td>0.000000</td>\n",
       "      <td>2.000000</td>\n",
       "      <td>0.000000</td>\n",
       "      <td>0.000000</td>\n",
       "    </tr>\n",
       "    <tr>\n",
       "      <th>max</th>\n",
       "      <td>175.000000</td>\n",
       "      <td>32.000000</td>\n",
       "      <td>33.000000</td>\n",
       "      <td>500.000000</td>\n",
       "      <td>600.000000</td>\n",
       "      <td>500.000000</td>\n",
       "      <td>500.000000</td>\n",
       "      <td>80000.000000</td>\n",
       "      <td>80000.000000</td>\n",
       "      <td>5.000000</td>\n",
       "      <td>...</td>\n",
       "      <td>7.000000</td>\n",
       "      <td>7.000000</td>\n",
       "      <td>6.000000</td>\n",
       "      <td>9.000000</td>\n",
       "      <td>5.000000</td>\n",
       "      <td>3.000000</td>\n",
       "      <td>3.000000</td>\n",
       "      <td>5.000000</td>\n",
       "      <td>3.000000</td>\n",
       "      <td>2.000000</td>\n",
       "    </tr>\n",
       "  </tbody>\n",
       "</table>\n",
       "<p>8 rows × 94 columns</p>\n",
       "</div>"
      ],
      "text/plain": [
       "           time_left       ct_score        t_score      ct_health  \\\n",
       "count  122410.000000  122410.000000  122410.000000  122410.000000   \n",
       "mean       97.886922       6.709239       6.780435     412.106568   \n",
       "std        54.465238       4.790362       4.823543     132.293290   \n",
       "min         0.010000       0.000000       0.000000       0.000000   \n",
       "25%        54.920000       3.000000       3.000000     350.000000   \n",
       "50%        94.910000       6.000000       6.000000     500.000000   \n",
       "75%       166.917500      10.000000      10.000000     500.000000   \n",
       "max       175.000000      32.000000      33.000000     500.000000   \n",
       "\n",
       "            t_health       ct_armor        t_armor       ct_money  \\\n",
       "count  122410.000000  122410.000000  122410.000000  122410.000000   \n",
       "mean      402.714500     314.142121     298.444670    9789.023773   \n",
       "std       139.919033     171.029736     174.576545   11215.042286   \n",
       "min         0.000000       0.000000       0.000000       0.000000   \n",
       "25%       322.000000     194.000000     174.000000    1300.000000   \n",
       "50%       500.000000     377.000000     334.000000    5500.000000   \n",
       "75%       500.000000     486.000000     468.000000   14600.000000   \n",
       "max       600.000000     500.000000     500.000000   80000.000000   \n",
       "\n",
       "             t_money     ct_helmets  ...  ct_grenade_flashbang  \\\n",
       "count  122410.000000  122410.000000  ...         122410.000000   \n",
       "mean    11241.036680       2.053901  ...              1.853157   \n",
       "std     12162.806759       1.841470  ...              1.772791   \n",
       "min         0.000000       0.000000  ...              0.000000   \n",
       "25%      1550.000000       0.000000  ...              0.000000   \n",
       "50%      7150.000000       2.000000  ...              1.000000   \n",
       "75%     18000.000000       4.000000  ...              3.000000   \n",
       "max     80000.000000       5.000000  ...              7.000000   \n",
       "\n",
       "       t_grenade_flashbang  ct_grenade_smokegrenade  t_grenade_smokegrenade  \\\n",
       "count        122410.000000            122410.000000           122410.000000   \n",
       "mean              1.858100                 1.540814                1.627146   \n",
       "std               1.794473                 1.737804                1.829147   \n",
       "min               0.000000                 0.000000                0.000000   \n",
       "25%               0.000000                 0.000000                0.000000   \n",
       "50%               1.000000                 1.000000                1.000000   \n",
       "75%               3.000000                 3.000000                3.000000   \n",
       "max               7.000000                 6.000000                9.000000   \n",
       "\n",
       "       ct_grenade_incendiarygrenade  t_grenade_incendiarygrenade  \\\n",
       "count                 122410.000000                122410.000000   \n",
       "mean                       1.001969                     0.019819   \n",
       "std                        1.458084                     0.143933   \n",
       "min                        0.000000                     0.000000   \n",
       "25%                        0.000000                     0.000000   \n",
       "50%                        0.000000                     0.000000   \n",
       "75%                        2.000000                     0.000000   \n",
       "max                        5.000000                     3.000000   \n",
       "\n",
       "       ct_grenade_molotovgrenade  t_grenade_molotovgrenade  \\\n",
       "count              122410.000000             122410.000000   \n",
       "mean                    0.048011                  1.352095   \n",
       "std                     0.227669                  1.663246   \n",
       "min                     0.000000                  0.000000   \n",
       "25%                     0.000000                  0.000000   \n",
       "50%                     0.000000                  1.000000   \n",
       "75%                     0.000000                  2.000000   \n",
       "max                     3.000000                  5.000000   \n",
       "\n",
       "       ct_grenade_decoygrenade  t_grenade_decoygrenade  \n",
       "count            122410.000000           122410.000000  \n",
       "mean                  0.027694                0.025750  \n",
       "std                   0.169531                0.164162  \n",
       "min                   0.000000                0.000000  \n",
       "25%                   0.000000                0.000000  \n",
       "50%                   0.000000                0.000000  \n",
       "75%                   0.000000                0.000000  \n",
       "max                   3.000000                2.000000  \n",
       "\n",
       "[8 rows x 94 columns]"
      ]
     },
     "execution_count": 49,
     "metadata": {},
     "output_type": "execute_result"
    }
   ],
   "source": [
    "data_raw.describe()"
   ]
  },
  {
   "cell_type": "code",
   "execution_count": 50,
   "id": "e643b6b6",
   "metadata": {},
   "outputs": [
    {
     "data": {
      "text/html": [
       "<div>\n",
       "<style scoped>\n",
       "    .dataframe tbody tr th:only-of-type {\n",
       "        vertical-align: middle;\n",
       "    }\n",
       "\n",
       "    .dataframe tbody tr th {\n",
       "        vertical-align: top;\n",
       "    }\n",
       "\n",
       "    .dataframe thead th {\n",
       "        text-align: right;\n",
       "    }\n",
       "</style>\n",
       "<table border=\"1\" class=\"dataframe\">\n",
       "  <thead>\n",
       "    <tr style=\"text-align: right;\">\n",
       "      <th></th>\n",
       "      <th>map</th>\n",
       "      <th>bomb_planted</th>\n",
       "      <th>round_winner</th>\n",
       "    </tr>\n",
       "  </thead>\n",
       "  <tbody>\n",
       "    <tr>\n",
       "      <th>count</th>\n",
       "      <td>122410</td>\n",
       "      <td>122410</td>\n",
       "      <td>122410</td>\n",
       "    </tr>\n",
       "    <tr>\n",
       "      <th>unique</th>\n",
       "      <td>8</td>\n",
       "      <td>2</td>\n",
       "      <td>2</td>\n",
       "    </tr>\n",
       "    <tr>\n",
       "      <th>top</th>\n",
       "      <td>de_inferno</td>\n",
       "      <td>False</td>\n",
       "      <td>T</td>\n",
       "    </tr>\n",
       "    <tr>\n",
       "      <th>freq</th>\n",
       "      <td>23811</td>\n",
       "      <td>108726</td>\n",
       "      <td>62406</td>\n",
       "    </tr>\n",
       "  </tbody>\n",
       "</table>\n",
       "</div>"
      ],
      "text/plain": [
       "               map bomb_planted round_winner\n",
       "count       122410       122410       122410\n",
       "unique           8            2            2\n",
       "top     de_inferno        False            T\n",
       "freq         23811       108726        62406"
      ]
     },
     "execution_count": 50,
     "metadata": {},
     "output_type": "execute_result"
    }
   ],
   "source": [
    "data_raw.describe(include=['category'])"
   ]
  },
  {
   "cell_type": "markdown",
   "id": "f4638d14",
   "metadata": {},
   "source": [
    "Найдем матрицу корреляции:"
   ]
  },
  {
   "cell_type": "code",
   "execution_count": 51,
   "id": "fc5ce252",
   "metadata": {},
   "outputs": [
    {
     "data": {
      "text/html": [
       "<div>\n",
       "<style scoped>\n",
       "    .dataframe tbody tr th:only-of-type {\n",
       "        vertical-align: middle;\n",
       "    }\n",
       "\n",
       "    .dataframe tbody tr th {\n",
       "        vertical-align: top;\n",
       "    }\n",
       "\n",
       "    .dataframe thead th {\n",
       "        text-align: right;\n",
       "    }\n",
       "</style>\n",
       "<table border=\"1\" class=\"dataframe\">\n",
       "  <thead>\n",
       "    <tr style=\"text-align: right;\">\n",
       "      <th></th>\n",
       "      <th>time_left</th>\n",
       "      <th>ct_score</th>\n",
       "      <th>t_score</th>\n",
       "      <th>ct_health</th>\n",
       "      <th>t_health</th>\n",
       "      <th>ct_armor</th>\n",
       "      <th>t_armor</th>\n",
       "      <th>ct_money</th>\n",
       "      <th>t_money</th>\n",
       "      <th>ct_helmets</th>\n",
       "      <th>...</th>\n",
       "      <th>ct_grenade_flashbang</th>\n",
       "      <th>t_grenade_flashbang</th>\n",
       "      <th>ct_grenade_smokegrenade</th>\n",
       "      <th>t_grenade_smokegrenade</th>\n",
       "      <th>ct_grenade_incendiarygrenade</th>\n",
       "      <th>t_grenade_incendiarygrenade</th>\n",
       "      <th>ct_grenade_molotovgrenade</th>\n",
       "      <th>t_grenade_molotovgrenade</th>\n",
       "      <th>ct_grenade_decoygrenade</th>\n",
       "      <th>t_grenade_decoygrenade</th>\n",
       "    </tr>\n",
       "  </thead>\n",
       "  <tbody>\n",
       "    <tr>\n",
       "      <th>time_left</th>\n",
       "      <td>1.000000</td>\n",
       "      <td>0.000381</td>\n",
       "      <td>-0.003067</td>\n",
       "      <td>0.684514</td>\n",
       "      <td>0.678952</td>\n",
       "      <td>-0.089950</td>\n",
       "      <td>-0.195579</td>\n",
       "      <td>0.374530</td>\n",
       "      <td>0.341717</td>\n",
       "      <td>-0.103505</td>\n",
       "      <td>...</td>\n",
       "      <td>0.006278</td>\n",
       "      <td>0.007462</td>\n",
       "      <td>0.108141</td>\n",
       "      <td>0.036235</td>\n",
       "      <td>0.128073</td>\n",
       "      <td>0.004142</td>\n",
       "      <td>0.058112</td>\n",
       "      <td>0.044942</td>\n",
       "      <td>0.010688</td>\n",
       "      <td>0.018366</td>\n",
       "    </tr>\n",
       "    <tr>\n",
       "      <th>ct_score</th>\n",
       "      <td>0.000381</td>\n",
       "      <td>1.000000</td>\n",
       "      <td>0.626726</td>\n",
       "      <td>0.016495</td>\n",
       "      <td>-0.010987</td>\n",
       "      <td>0.100518</td>\n",
       "      <td>0.034789</td>\n",
       "      <td>0.249416</td>\n",
       "      <td>0.074700</td>\n",
       "      <td>0.181513</td>\n",
       "      <td>...</td>\n",
       "      <td>0.168219</td>\n",
       "      <td>0.051485</td>\n",
       "      <td>0.136987</td>\n",
       "      <td>0.038498</td>\n",
       "      <td>0.152342</td>\n",
       "      <td>0.008133</td>\n",
       "      <td>0.051174</td>\n",
       "      <td>0.062015</td>\n",
       "      <td>-0.011149</td>\n",
       "      <td>-0.004670</td>\n",
       "    </tr>\n",
       "    <tr>\n",
       "      <th>t_score</th>\n",
       "      <td>-0.003067</td>\n",
       "      <td>0.626726</td>\n",
       "      <td>1.000000</td>\n",
       "      <td>0.002840</td>\n",
       "      <td>0.001720</td>\n",
       "      <td>0.035370</td>\n",
       "      <td>0.081671</td>\n",
       "      <td>0.069768</td>\n",
       "      <td>0.258855</td>\n",
       "      <td>-0.006872</td>\n",
       "      <td>...</td>\n",
       "      <td>0.064676</td>\n",
       "      <td>0.118714</td>\n",
       "      <td>0.058564</td>\n",
       "      <td>0.104194</td>\n",
       "      <td>0.049208</td>\n",
       "      <td>0.011222</td>\n",
       "      <td>0.030615</td>\n",
       "      <td>0.144589</td>\n",
       "      <td>0.016507</td>\n",
       "      <td>-0.026379</td>\n",
       "    </tr>\n",
       "    <tr>\n",
       "      <th>ct_health</th>\n",
       "      <td>0.684514</td>\n",
       "      <td>0.016495</td>\n",
       "      <td>0.002840</td>\n",
       "      <td>1.000000</td>\n",
       "      <td>0.756167</td>\n",
       "      <td>0.391429</td>\n",
       "      <td>0.140262</td>\n",
       "      <td>0.306399</td>\n",
       "      <td>0.217013</td>\n",
       "      <td>0.232493</td>\n",
       "      <td>...</td>\n",
       "      <td>0.326589</td>\n",
       "      <td>0.248142</td>\n",
       "      <td>0.337015</td>\n",
       "      <td>0.266243</td>\n",
       "      <td>0.299532</td>\n",
       "      <td>-0.019960</td>\n",
       "      <td>0.046761</td>\n",
       "      <td>0.262061</td>\n",
       "      <td>0.046326</td>\n",
       "      <td>0.033921</td>\n",
       "    </tr>\n",
       "    <tr>\n",
       "      <th>t_health</th>\n",
       "      <td>0.678952</td>\n",
       "      <td>-0.010987</td>\n",
       "      <td>0.001720</td>\n",
       "      <td>0.756167</td>\n",
       "      <td>1.000000</td>\n",
       "      <td>0.166416</td>\n",
       "      <td>0.325604</td>\n",
       "      <td>0.236764</td>\n",
       "      <td>0.306772</td>\n",
       "      <td>0.053118</td>\n",
       "      <td>...</td>\n",
       "      <td>0.195876</td>\n",
       "      <td>0.347057</td>\n",
       "      <td>0.251135</td>\n",
       "      <td>0.341130</td>\n",
       "      <td>0.249609</td>\n",
       "      <td>0.012683</td>\n",
       "      <td>0.016732</td>\n",
       "      <td>0.312744</td>\n",
       "      <td>0.036673</td>\n",
       "      <td>0.046655</td>\n",
       "    </tr>\n",
       "    <tr>\n",
       "      <th>...</th>\n",
       "      <td>...</td>\n",
       "      <td>...</td>\n",
       "      <td>...</td>\n",
       "      <td>...</td>\n",
       "      <td>...</td>\n",
       "      <td>...</td>\n",
       "      <td>...</td>\n",
       "      <td>...</td>\n",
       "      <td>...</td>\n",
       "      <td>...</td>\n",
       "      <td>...</td>\n",
       "      <td>...</td>\n",
       "      <td>...</td>\n",
       "      <td>...</td>\n",
       "      <td>...</td>\n",
       "      <td>...</td>\n",
       "      <td>...</td>\n",
       "      <td>...</td>\n",
       "      <td>...</td>\n",
       "      <td>...</td>\n",
       "      <td>...</td>\n",
       "    </tr>\n",
       "    <tr>\n",
       "      <th>t_grenade_incendiarygrenade</th>\n",
       "      <td>0.004142</td>\n",
       "      <td>0.008133</td>\n",
       "      <td>0.011222</td>\n",
       "      <td>-0.019960</td>\n",
       "      <td>0.012683</td>\n",
       "      <td>-0.053678</td>\n",
       "      <td>0.040938</td>\n",
       "      <td>-0.000720</td>\n",
       "      <td>0.052548</td>\n",
       "      <td>-0.039537</td>\n",
       "      <td>...</td>\n",
       "      <td>-0.022308</td>\n",
       "      <td>0.054379</td>\n",
       "      <td>-0.017931</td>\n",
       "      <td>0.043893</td>\n",
       "      <td>-0.016379</td>\n",
       "      <td>1.000000</td>\n",
       "      <td>-0.020062</td>\n",
       "      <td>0.011937</td>\n",
       "      <td>-0.009436</td>\n",
       "      <td>-0.013646</td>\n",
       "    </tr>\n",
       "    <tr>\n",
       "      <th>ct_grenade_molotovgrenade</th>\n",
       "      <td>0.058112</td>\n",
       "      <td>0.051174</td>\n",
       "      <td>0.030615</td>\n",
       "      <td>0.046761</td>\n",
       "      <td>0.016732</td>\n",
       "      <td>0.080041</td>\n",
       "      <td>-0.068558</td>\n",
       "      <td>0.114220</td>\n",
       "      <td>0.023718</td>\n",
       "      <td>0.113158</td>\n",
       "      <td>...</td>\n",
       "      <td>0.119602</td>\n",
       "      <td>-0.027156</td>\n",
       "      <td>0.110894</td>\n",
       "      <td>-0.018945</td>\n",
       "      <td>0.061805</td>\n",
       "      <td>-0.020062</td>\n",
       "      <td>1.000000</td>\n",
       "      <td>-0.015560</td>\n",
       "      <td>-0.007780</td>\n",
       "      <td>-0.005318</td>\n",
       "    </tr>\n",
       "    <tr>\n",
       "      <th>t_grenade_molotovgrenade</th>\n",
       "      <td>0.044942</td>\n",
       "      <td>0.062015</td>\n",
       "      <td>0.144589</td>\n",
       "      <td>0.262061</td>\n",
       "      <td>0.312744</td>\n",
       "      <td>0.292294</td>\n",
       "      <td>0.639853</td>\n",
       "      <td>-0.054578</td>\n",
       "      <td>0.176183</td>\n",
       "      <td>0.091644</td>\n",
       "      <td>...</td>\n",
       "      <td>0.326849</td>\n",
       "      <td>0.818655</td>\n",
       "      <td>0.376916</td>\n",
       "      <td>0.812387</td>\n",
       "      <td>0.335175</td>\n",
       "      <td>0.011937</td>\n",
       "      <td>-0.015560</td>\n",
       "      <td>1.000000</td>\n",
       "      <td>0.053987</td>\n",
       "      <td>0.007665</td>\n",
       "    </tr>\n",
       "    <tr>\n",
       "      <th>ct_grenade_decoygrenade</th>\n",
       "      <td>0.010688</td>\n",
       "      <td>-0.011149</td>\n",
       "      <td>0.016507</td>\n",
       "      <td>0.046326</td>\n",
       "      <td>0.036673</td>\n",
       "      <td>0.096492</td>\n",
       "      <td>0.030713</td>\n",
       "      <td>-0.086894</td>\n",
       "      <td>-0.003800</td>\n",
       "      <td>0.012751</td>\n",
       "      <td>...</td>\n",
       "      <td>0.044817</td>\n",
       "      <td>0.046699</td>\n",
       "      <td>0.068453</td>\n",
       "      <td>0.051160</td>\n",
       "      <td>0.030878</td>\n",
       "      <td>-0.009436</td>\n",
       "      <td>-0.007780</td>\n",
       "      <td>0.053987</td>\n",
       "      <td>1.000000</td>\n",
       "      <td>0.010776</td>\n",
       "    </tr>\n",
       "    <tr>\n",
       "      <th>t_grenade_decoygrenade</th>\n",
       "      <td>0.018366</td>\n",
       "      <td>-0.004670</td>\n",
       "      <td>-0.026379</td>\n",
       "      <td>0.033921</td>\n",
       "      <td>0.046655</td>\n",
       "      <td>0.042389</td>\n",
       "      <td>0.083507</td>\n",
       "      <td>-0.023366</td>\n",
       "      <td>-0.102335</td>\n",
       "      <td>0.035647</td>\n",
       "      <td>...</td>\n",
       "      <td>0.025849</td>\n",
       "      <td>0.035920</td>\n",
       "      <td>0.030765</td>\n",
       "      <td>0.046719</td>\n",
       "      <td>0.040710</td>\n",
       "      <td>-0.013646</td>\n",
       "      <td>-0.005318</td>\n",
       "      <td>0.007665</td>\n",
       "      <td>0.010776</td>\n",
       "      <td>1.000000</td>\n",
       "    </tr>\n",
       "  </tbody>\n",
       "</table>\n",
       "<p>94 rows × 94 columns</p>\n",
       "</div>"
      ],
      "text/plain": [
       "                             time_left  ct_score   t_score  ct_health  \\\n",
       "time_left                     1.000000  0.000381 -0.003067   0.684514   \n",
       "ct_score                      0.000381  1.000000  0.626726   0.016495   \n",
       "t_score                      -0.003067  0.626726  1.000000   0.002840   \n",
       "ct_health                     0.684514  0.016495  0.002840   1.000000   \n",
       "t_health                      0.678952 -0.010987  0.001720   0.756167   \n",
       "...                                ...       ...       ...        ...   \n",
       "t_grenade_incendiarygrenade   0.004142  0.008133  0.011222  -0.019960   \n",
       "ct_grenade_molotovgrenade     0.058112  0.051174  0.030615   0.046761   \n",
       "t_grenade_molotovgrenade      0.044942  0.062015  0.144589   0.262061   \n",
       "ct_grenade_decoygrenade       0.010688 -0.011149  0.016507   0.046326   \n",
       "t_grenade_decoygrenade        0.018366 -0.004670 -0.026379   0.033921   \n",
       "\n",
       "                             t_health  ct_armor   t_armor  ct_money   t_money  \\\n",
       "time_left                    0.678952 -0.089950 -0.195579  0.374530  0.341717   \n",
       "ct_score                    -0.010987  0.100518  0.034789  0.249416  0.074700   \n",
       "t_score                      0.001720  0.035370  0.081671  0.069768  0.258855   \n",
       "ct_health                    0.756167  0.391429  0.140262  0.306399  0.217013   \n",
       "t_health                     1.000000  0.166416  0.325604  0.236764  0.306772   \n",
       "...                               ...       ...       ...       ...       ...   \n",
       "t_grenade_incendiarygrenade  0.012683 -0.053678  0.040938 -0.000720  0.052548   \n",
       "ct_grenade_molotovgrenade    0.016732  0.080041 -0.068558  0.114220  0.023718   \n",
       "t_grenade_molotovgrenade     0.312744  0.292294  0.639853 -0.054578  0.176183   \n",
       "ct_grenade_decoygrenade      0.036673  0.096492  0.030713 -0.086894 -0.003800   \n",
       "t_grenade_decoygrenade       0.046655  0.042389  0.083507 -0.023366 -0.102335   \n",
       "\n",
       "                             ct_helmets  ...  ct_grenade_flashbang  \\\n",
       "time_left                     -0.103505  ...              0.006278   \n",
       "ct_score                       0.181513  ...              0.168219   \n",
       "t_score                       -0.006872  ...              0.064676   \n",
       "ct_health                      0.232493  ...              0.326589   \n",
       "t_health                       0.053118  ...              0.195876   \n",
       "...                                 ...  ...                   ...   \n",
       "t_grenade_incendiarygrenade   -0.039537  ...             -0.022308   \n",
       "ct_grenade_molotovgrenade      0.113158  ...              0.119602   \n",
       "t_grenade_molotovgrenade       0.091644  ...              0.326849   \n",
       "ct_grenade_decoygrenade        0.012751  ...              0.044817   \n",
       "t_grenade_decoygrenade         0.035647  ...              0.025849   \n",
       "\n",
       "                             t_grenade_flashbang  ct_grenade_smokegrenade  \\\n",
       "time_left                               0.007462                 0.108141   \n",
       "ct_score                                0.051485                 0.136987   \n",
       "t_score                                 0.118714                 0.058564   \n",
       "ct_health                               0.248142                 0.337015   \n",
       "t_health                                0.347057                 0.251135   \n",
       "...                                          ...                      ...   \n",
       "t_grenade_incendiarygrenade             0.054379                -0.017931   \n",
       "ct_grenade_molotovgrenade              -0.027156                 0.110894   \n",
       "t_grenade_molotovgrenade                0.818655                 0.376916   \n",
       "ct_grenade_decoygrenade                 0.046699                 0.068453   \n",
       "t_grenade_decoygrenade                  0.035920                 0.030765   \n",
       "\n",
       "                             t_grenade_smokegrenade  \\\n",
       "time_left                                  0.036235   \n",
       "ct_score                                   0.038498   \n",
       "t_score                                    0.104194   \n",
       "ct_health                                  0.266243   \n",
       "t_health                                   0.341130   \n",
       "...                                             ...   \n",
       "t_grenade_incendiarygrenade                0.043893   \n",
       "ct_grenade_molotovgrenade                 -0.018945   \n",
       "t_grenade_molotovgrenade                   0.812387   \n",
       "ct_grenade_decoygrenade                    0.051160   \n",
       "t_grenade_decoygrenade                     0.046719   \n",
       "\n",
       "                             ct_grenade_incendiarygrenade  \\\n",
       "time_left                                        0.128073   \n",
       "ct_score                                         0.152342   \n",
       "t_score                                          0.049208   \n",
       "ct_health                                        0.299532   \n",
       "t_health                                         0.249609   \n",
       "...                                                   ...   \n",
       "t_grenade_incendiarygrenade                     -0.016379   \n",
       "ct_grenade_molotovgrenade                        0.061805   \n",
       "t_grenade_molotovgrenade                         0.335175   \n",
       "ct_grenade_decoygrenade                          0.030878   \n",
       "t_grenade_decoygrenade                           0.040710   \n",
       "\n",
       "                             t_grenade_incendiarygrenade  \\\n",
       "time_left                                       0.004142   \n",
       "ct_score                                        0.008133   \n",
       "t_score                                         0.011222   \n",
       "ct_health                                      -0.019960   \n",
       "t_health                                        0.012683   \n",
       "...                                                  ...   \n",
       "t_grenade_incendiarygrenade                     1.000000   \n",
       "ct_grenade_molotovgrenade                      -0.020062   \n",
       "t_grenade_molotovgrenade                        0.011937   \n",
       "ct_grenade_decoygrenade                        -0.009436   \n",
       "t_grenade_decoygrenade                         -0.013646   \n",
       "\n",
       "                             ct_grenade_molotovgrenade  \\\n",
       "time_left                                     0.058112   \n",
       "ct_score                                      0.051174   \n",
       "t_score                                       0.030615   \n",
       "ct_health                                     0.046761   \n",
       "t_health                                      0.016732   \n",
       "...                                                ...   \n",
       "t_grenade_incendiarygrenade                  -0.020062   \n",
       "ct_grenade_molotovgrenade                     1.000000   \n",
       "t_grenade_molotovgrenade                     -0.015560   \n",
       "ct_grenade_decoygrenade                      -0.007780   \n",
       "t_grenade_decoygrenade                       -0.005318   \n",
       "\n",
       "                             t_grenade_molotovgrenade  \\\n",
       "time_left                                    0.044942   \n",
       "ct_score                                     0.062015   \n",
       "t_score                                      0.144589   \n",
       "ct_health                                    0.262061   \n",
       "t_health                                     0.312744   \n",
       "...                                               ...   \n",
       "t_grenade_incendiarygrenade                  0.011937   \n",
       "ct_grenade_molotovgrenade                   -0.015560   \n",
       "t_grenade_molotovgrenade                     1.000000   \n",
       "ct_grenade_decoygrenade                      0.053987   \n",
       "t_grenade_decoygrenade                       0.007665   \n",
       "\n",
       "                             ct_grenade_decoygrenade  t_grenade_decoygrenade  \n",
       "time_left                                   0.010688                0.018366  \n",
       "ct_score                                   -0.011149               -0.004670  \n",
       "t_score                                     0.016507               -0.026379  \n",
       "ct_health                                   0.046326                0.033921  \n",
       "t_health                                    0.036673                0.046655  \n",
       "...                                              ...                     ...  \n",
       "t_grenade_incendiarygrenade                -0.009436               -0.013646  \n",
       "ct_grenade_molotovgrenade                  -0.007780               -0.005318  \n",
       "t_grenade_molotovgrenade                    0.053987                0.007665  \n",
       "ct_grenade_decoygrenade                     1.000000                0.010776  \n",
       "t_grenade_decoygrenade                      0.010776                1.000000  \n",
       "\n",
       "[94 rows x 94 columns]"
      ]
     },
     "execution_count": 51,
     "metadata": {},
     "output_type": "execute_result"
    }
   ],
   "source": [
    "corr_mat = data_raw.corr()\n",
    "corr_mat"
   ]
  },
  {
   "cell_type": "code",
   "execution_count": 52,
   "id": "ee6c63bc",
   "metadata": {},
   "outputs": [
    {
     "data": {
      "image/png": "[encoded data removed]",
      "text/plain": [
       "<Figure size 432x288 with 2 Axes>"
      ]
     },
     "metadata": {
      "needs_background": "light"
     },
     "output_type": "display_data"
    }
   ],
   "source": [
    "sns.heatmap(corr_mat, square=True, cmap='coolwarm')\n",
    "pass"
   ]
  },
  {
   "cell_type": "markdown",
   "id": "d4c0735f",
   "metadata": {},
   "source": [
    "4. Убедимся, что пропущенных значений нет"
   ]
  },
  {
   "cell_type": "code",
   "execution_count": 53,
   "id": "2fa74d16",
   "metadata": {},
   "outputs": [
    {
     "data": {
      "text/plain": [
       "time_left                    0\n",
       "ct_score                     0\n",
       "t_score                      0\n",
       "map                          0\n",
       "bomb_planted                 0\n",
       "                            ..\n",
       "ct_grenade_molotovgrenade    0\n",
       "t_grenade_molotovgrenade     0\n",
       "ct_grenade_decoygrenade      0\n",
       "t_grenade_decoygrenade       0\n",
       "round_winner                 0\n",
       "Length: 97, dtype: int64"
      ]
     },
     "execution_count": 53,
     "metadata": {},
     "output_type": "execute_result"
    }
   ],
   "source": [
    "data_raw.isna().sum()"
   ]
  },
  {
   "cell_type": "markdown",
   "id": "e717b1a8",
   "metadata": {},
   "source": [
    "5.Работаем с выбросами. Очень часто в игре победа зависит от количество денег у команды, т.к. если денег мало, то игроки не смогут купить себе хорошее оружие, броню и набор гранат. Но есть и редкие исключения, которые можно увидеть далее:"
   ]
  },
  {
   "cell_type": "code",
   "execution_count": 54,
   "id": "f6e32d59",
   "metadata": {},
   "outputs": [
    {
     "data": {
      "image/png": "[encoded data removed]",
      "text/plain": [
       "<Figure size 432x288 with 1 Axes>"
      ]
     },
     "metadata": {
      "needs_background": "light"
     },
     "output_type": "display_data"
    }
   ],
   "source": [
    "plt.scatter(data_raw['ct_money'], data_raw['round_winner'], alpha=0.1)\n",
    "pass"
   ]
  },
  {
   "cell_type": "code",
   "execution_count": 55,
   "id": "9de3e053",
   "metadata": {},
   "outputs": [
    {
     "data": {
      "text/plain": [
       "0          4000.0\n",
       "1           600.0\n",
       "2           750.0\n",
       "3           750.0\n",
       "4         18350.0\n",
       "           ...   \n",
       "122405      100.0\n",
       "122406    11500.0\n",
       "122407     1200.0\n",
       "122408     1200.0\n",
       "122409     1100.0\n",
       "Name: ct_money, Length: 122410, dtype: float64"
      ]
     },
     "execution_count": 55,
     "metadata": {},
     "output_type": "execute_result"
    }
   ],
   "source": [
    "data_raw['ct_money']"
   ]
  },
  {
   "cell_type": "code",
   "execution_count": 56,
   "id": "6b50696a",
   "metadata": {},
   "outputs": [
    {
     "data": {
      "text/plain": [
       "0.005       50.00\n",
       "0.500     5500.00\n",
       "0.995    56497.75\n",
       "Name: ct_money, dtype: float64"
      ]
     },
     "execution_count": 56,
     "metadata": {},
     "output_type": "execute_result"
    }
   ],
   "source": [
    "data_raw['ct_money'].quantile([0.005, 0.5, 0.995])"
   ]
  },
  {
   "cell_type": "code",
   "execution_count": 57,
   "id": "7fe694f8",
   "metadata": {},
   "outputs": [
    {
     "name": "stdout",
     "output_type": "stream",
     "text": [
      "(121316, 97)\n"
     ]
    }
   ],
   "source": [
    "drop_data = data_raw[(data_raw['ct_money'] < data_raw['ct_money'].quantile(0.005)) |\n",
    "                    (data_raw['ct_money'] > data_raw['ct_money'].quantile(0.995))].index\n",
    "data_raw = data_raw.drop(drop_data)\n",
    "print(data_raw.shape)"
   ]
  },
  {
   "cell_type": "code",
   "execution_count": 58,
   "id": "9d4f70da",
   "metadata": {},
   "outputs": [
    {
     "data": {
      "image/png": "[encoded data removed]",
      "text/plain": [
       "<Figure size 432x288 with 1 Axes>"
      ]
     },
     "metadata": {
      "needs_background": "light"
     },
     "output_type": "display_data"
    }
   ],
   "source": [
    "plt.scatter(data_raw['ct_money'], data_raw['round_winner'], alpha=0.1)\n",
    "pass"
   ]
  },
  {
   "cell_type": "markdown",
   "id": "e12d1f43",
   "metadata": {},
   "source": [
    "Как можно видеть, мы избавились от выбросов у спецназа. Теперь избавимся от выбросов у террористов:"
   ]
  },
  {
   "cell_type": "code",
   "execution_count": 59,
   "id": "674ea1b5",
   "metadata": {},
   "outputs": [
    {
     "data": {
      "image/png": "[encoded data removed]",
      "text/plain": [
       "<Figure size 432x288 with 1 Axes>"
      ]
     },
     "metadata": {
      "needs_background": "light"
     },
     "output_type": "display_data"
    }
   ],
   "source": [
    "plt.scatter(data_raw['t_money'], data_raw['round_winner'], alpha=0.1)\n",
    "pass"
   ]
  },
  {
   "cell_type": "code",
   "execution_count": 60,
   "id": "bedf3e2d",
   "metadata": {},
   "outputs": [
    {
     "data": {
      "text/plain": [
       "0          4000.0\n",
       "1           650.0\n",
       "2           500.0\n",
       "3           500.0\n",
       "4         10750.0\n",
       "           ...   \n",
       "122405     5950.0\n",
       "122406    23900.0\n",
       "122407     6700.0\n",
       "122408     6700.0\n",
       "122409     7000.0\n",
       "Name: t_money, Length: 121316, dtype: float64"
      ]
     },
     "execution_count": 60,
     "metadata": {},
     "output_type": "execute_result"
    }
   ],
   "source": [
    "data_raw['t_money']"
   ]
  },
  {
   "cell_type": "code",
   "execution_count": 61,
   "id": "1095c631",
   "metadata": {},
   "outputs": [
    {
     "data": {
      "text/plain": [
       "0.005        0.0\n",
       "0.500     7100.0\n",
       "0.995    55250.0\n",
       "Name: t_money, dtype: float64"
      ]
     },
     "execution_count": 61,
     "metadata": {},
     "output_type": "execute_result"
    }
   ],
   "source": [
    "data_raw['t_money'].quantile([0.005, 0.5, 0.995])"
   ]
  },
  {
   "cell_type": "code",
   "execution_count": 62,
   "id": "1d126235",
   "metadata": {},
   "outputs": [
    {
     "name": "stdout",
     "output_type": "stream",
     "text": [
      "(120710, 97)\n"
     ]
    }
   ],
   "source": [
    "drop_data = data_raw[(data_raw['t_money'] < data_raw['t_money'].quantile(0.005)) |\n",
    "                    (data_raw['t_money'] > data_raw['t_money'].quantile(0.995))].index\n",
    "data_raw = data_raw.drop(drop_data)\n",
    "print(data_raw.shape)"
   ]
  },
  {
   "cell_type": "code",
   "execution_count": 63,
   "id": "dddf1292",
   "metadata": {},
   "outputs": [
    {
     "data": {
      "image/png": "[encoded data removed]",
      "text/plain": [
       "<Figure size 432x288 with 1 Axes>"
      ]
     },
     "metadata": {
      "needs_background": "light"
     },
     "output_type": "display_data"
    }
   ],
   "source": [
    "plt.scatter(data_raw['t_money'], data_raw['round_winner'], alpha=0.1)\n",
    "pass"
   ]
  },
  {
   "cell_type": "code",
   "execution_count": 64,
   "id": "b00ce8cd",
   "metadata": {},
   "outputs": [
    {
     "name": "stdout",
     "output_type": "stream",
     "text": [
      "{'ct_players_alive', 't_players_alive'}\n"
     ]
    }
   ],
   "source": [
    "limit_val = 0.9\n",
    "corr_features = set()\n",
    "for i in range(len(corr_mat.columns)): \n",
    "    for j in range(i): \n",
    "        if abs(corr_mat.iloc[i, j]) > limit_val:\n",
    "            colname = corr_mat.columns[i]\n",
    "            corr_features.add(colname)\n",
    "            \n",
    "print(corr_features)"
   ]
  },
  {
   "cell_type": "code",
   "execution_count": 65,
   "id": "8db1fbe0",
   "metadata": {},
   "outputs": [],
   "source": [
    "data_raw = data_raw.drop(labels=corr_features, axis=1)"
   ]
  },
  {
   "cell_type": "markdown",
   "id": "4db29499",
   "metadata": {},
   "source": [
    "6. Обрабатываем категориальные значения. В данном случае есть и бинарный признак и небинарный. Бинарный:"
   ]
  },
  {
   "cell_type": "code",
   "execution_count": 66,
   "id": "7344252e",
   "metadata": {},
   "outputs": [],
   "source": [
    "data_raw['bomb_planted'] = pd.factorize(data_raw['bomb_planted'])[0]\n",
    "#data_raw['round_winner'] = pd.factorize(data_raw['round_winner'])[0]\n",
    "y = data_raw['round_winner']\n",
    "data_raw = data_raw.drop(['round_winner'], axis=1)"
   ]
  },
  {
   "cell_type": "markdown",
   "id": "fedec6e5",
   "metadata": {},
   "source": [
    "Небинарный:"
   ]
  },
  {
   "cell_type": "code",
   "execution_count": 67,
   "id": "90bbe27a",
   "metadata": {},
   "outputs": [
    {
     "data": {
      "text/html": [
       "<div>\n",
       "<style scoped>\n",
       "    .dataframe tbody tr th:only-of-type {\n",
       "        vertical-align: middle;\n",
       "    }\n",
       "\n",
       "    .dataframe tbody tr th {\n",
       "        vertical-align: top;\n",
       "    }\n",
       "\n",
       "    .dataframe thead th {\n",
       "        text-align: right;\n",
       "    }\n",
       "</style>\n",
       "<table border=\"1\" class=\"dataframe\">\n",
       "  <thead>\n",
       "    <tr style=\"text-align: right;\">\n",
       "      <th></th>\n",
       "      <th>de_cache</th>\n",
       "      <th>de_dust2</th>\n",
       "      <th>de_inferno</th>\n",
       "      <th>de_mirage</th>\n",
       "      <th>de_nuke</th>\n",
       "      <th>de_overpass</th>\n",
       "      <th>de_train</th>\n",
       "      <th>de_vertigo</th>\n",
       "    </tr>\n",
       "  </thead>\n",
       "  <tbody>\n",
       "    <tr>\n",
       "      <th>0</th>\n",
       "      <td>0</td>\n",
       "      <td>1</td>\n",
       "      <td>0</td>\n",
       "      <td>0</td>\n",
       "      <td>0</td>\n",
       "      <td>0</td>\n",
       "      <td>0</td>\n",
       "      <td>0</td>\n",
       "    </tr>\n",
       "    <tr>\n",
       "      <th>1</th>\n",
       "      <td>0</td>\n",
       "      <td>1</td>\n",
       "      <td>0</td>\n",
       "      <td>0</td>\n",
       "      <td>0</td>\n",
       "      <td>0</td>\n",
       "      <td>0</td>\n",
       "      <td>0</td>\n",
       "    </tr>\n",
       "    <tr>\n",
       "      <th>2</th>\n",
       "      <td>0</td>\n",
       "      <td>1</td>\n",
       "      <td>0</td>\n",
       "      <td>0</td>\n",
       "      <td>0</td>\n",
       "      <td>0</td>\n",
       "      <td>0</td>\n",
       "      <td>0</td>\n",
       "    </tr>\n",
       "    <tr>\n",
       "      <th>3</th>\n",
       "      <td>0</td>\n",
       "      <td>1</td>\n",
       "      <td>0</td>\n",
       "      <td>0</td>\n",
       "      <td>0</td>\n",
       "      <td>0</td>\n",
       "      <td>0</td>\n",
       "      <td>0</td>\n",
       "    </tr>\n",
       "    <tr>\n",
       "      <th>4</th>\n",
       "      <td>0</td>\n",
       "      <td>1</td>\n",
       "      <td>0</td>\n",
       "      <td>0</td>\n",
       "      <td>0</td>\n",
       "      <td>0</td>\n",
       "      <td>0</td>\n",
       "      <td>0</td>\n",
       "    </tr>\n",
       "  </tbody>\n",
       "</table>\n",
       "</div>"
      ],
      "text/plain": [
       "   de_cache  de_dust2  de_inferno  de_mirage  de_nuke  de_overpass  de_train  \\\n",
       "0         0         1           0          0        0            0         0   \n",
       "1         0         1           0          0        0            0         0   \n",
       "2         0         1           0          0        0            0         0   \n",
       "3         0         1           0          0        0            0         0   \n",
       "4         0         1           0          0        0            0         0   \n",
       "\n",
       "   de_vertigo  \n",
       "0           0  \n",
       "1           0  \n",
       "2           0  \n",
       "3           0  \n",
       "4           0  "
      ]
     },
     "execution_count": 67,
     "metadata": {},
     "output_type": "execute_result"
    }
   ],
   "source": [
    "map_dummies = pd.get_dummies(data_raw['map'])\n",
    "map_dummies.head()"
   ]
  },
  {
   "cell_type": "code",
   "execution_count": 68,
   "id": "134b98a6",
   "metadata": {},
   "outputs": [
    {
     "data": {
      "text/html": [
       "<div>\n",
       "<style scoped>\n",
       "    .dataframe tbody tr th:only-of-type {\n",
       "        vertical-align: middle;\n",
       "    }\n",
       "\n",
       "    .dataframe tbody tr th {\n",
       "        vertical-align: top;\n",
       "    }\n",
       "\n",
       "    .dataframe thead th {\n",
       "        text-align: right;\n",
       "    }\n",
       "</style>\n",
       "<table border=\"1\" class=\"dataframe\">\n",
       "  <thead>\n",
       "    <tr style=\"text-align: right;\">\n",
       "      <th></th>\n",
       "      <th>time_left</th>\n",
       "      <th>ct_score</th>\n",
       "      <th>t_score</th>\n",
       "      <th>bomb_planted</th>\n",
       "      <th>ct_health</th>\n",
       "      <th>t_health</th>\n",
       "      <th>ct_armor</th>\n",
       "      <th>t_armor</th>\n",
       "      <th>ct_money</th>\n",
       "      <th>t_money</th>\n",
       "      <th>...</th>\n",
       "      <th>ct_grenade_decoygrenade</th>\n",
       "      <th>t_grenade_decoygrenade</th>\n",
       "      <th>de_cache</th>\n",
       "      <th>de_dust2</th>\n",
       "      <th>de_inferno</th>\n",
       "      <th>de_mirage</th>\n",
       "      <th>de_nuke</th>\n",
       "      <th>de_overpass</th>\n",
       "      <th>de_train</th>\n",
       "      <th>de_vertigo</th>\n",
       "    </tr>\n",
       "  </thead>\n",
       "  <tbody>\n",
       "    <tr>\n",
       "      <th>0</th>\n",
       "      <td>175.00</td>\n",
       "      <td>0.0</td>\n",
       "      <td>0.0</td>\n",
       "      <td>0</td>\n",
       "      <td>500.0</td>\n",
       "      <td>500.0</td>\n",
       "      <td>0.0</td>\n",
       "      <td>0.0</td>\n",
       "      <td>4000.0</td>\n",
       "      <td>4000.0</td>\n",
       "      <td>...</td>\n",
       "      <td>0.0</td>\n",
       "      <td>0.0</td>\n",
       "      <td>0</td>\n",
       "      <td>1</td>\n",
       "      <td>0</td>\n",
       "      <td>0</td>\n",
       "      <td>0</td>\n",
       "      <td>0</td>\n",
       "      <td>0</td>\n",
       "      <td>0</td>\n",
       "    </tr>\n",
       "    <tr>\n",
       "      <th>1</th>\n",
       "      <td>156.03</td>\n",
       "      <td>0.0</td>\n",
       "      <td>0.0</td>\n",
       "      <td>0</td>\n",
       "      <td>500.0</td>\n",
       "      <td>500.0</td>\n",
       "      <td>400.0</td>\n",
       "      <td>300.0</td>\n",
       "      <td>600.0</td>\n",
       "      <td>650.0</td>\n",
       "      <td>...</td>\n",
       "      <td>0.0</td>\n",
       "      <td>0.0</td>\n",
       "      <td>0</td>\n",
       "      <td>1</td>\n",
       "      <td>0</td>\n",
       "      <td>0</td>\n",
       "      <td>0</td>\n",
       "      <td>0</td>\n",
       "      <td>0</td>\n",
       "      <td>0</td>\n",
       "    </tr>\n",
       "    <tr>\n",
       "      <th>2</th>\n",
       "      <td>96.03</td>\n",
       "      <td>0.0</td>\n",
       "      <td>0.0</td>\n",
       "      <td>0</td>\n",
       "      <td>391.0</td>\n",
       "      <td>400.0</td>\n",
       "      <td>294.0</td>\n",
       "      <td>200.0</td>\n",
       "      <td>750.0</td>\n",
       "      <td>500.0</td>\n",
       "      <td>...</td>\n",
       "      <td>0.0</td>\n",
       "      <td>0.0</td>\n",
       "      <td>0</td>\n",
       "      <td>1</td>\n",
       "      <td>0</td>\n",
       "      <td>0</td>\n",
       "      <td>0</td>\n",
       "      <td>0</td>\n",
       "      <td>0</td>\n",
       "      <td>0</td>\n",
       "    </tr>\n",
       "    <tr>\n",
       "      <th>3</th>\n",
       "      <td>76.03</td>\n",
       "      <td>0.0</td>\n",
       "      <td>0.0</td>\n",
       "      <td>0</td>\n",
       "      <td>391.0</td>\n",
       "      <td>400.0</td>\n",
       "      <td>294.0</td>\n",
       "      <td>200.0</td>\n",
       "      <td>750.0</td>\n",
       "      <td>500.0</td>\n",
       "      <td>...</td>\n",
       "      <td>0.0</td>\n",
       "      <td>0.0</td>\n",
       "      <td>0</td>\n",
       "      <td>1</td>\n",
       "      <td>0</td>\n",
       "      <td>0</td>\n",
       "      <td>0</td>\n",
       "      <td>0</td>\n",
       "      <td>0</td>\n",
       "      <td>0</td>\n",
       "    </tr>\n",
       "    <tr>\n",
       "      <th>4</th>\n",
       "      <td>174.97</td>\n",
       "      <td>1.0</td>\n",
       "      <td>0.0</td>\n",
       "      <td>0</td>\n",
       "      <td>500.0</td>\n",
       "      <td>500.0</td>\n",
       "      <td>192.0</td>\n",
       "      <td>0.0</td>\n",
       "      <td>18350.0</td>\n",
       "      <td>10750.0</td>\n",
       "      <td>...</td>\n",
       "      <td>0.0</td>\n",
       "      <td>0.0</td>\n",
       "      <td>0</td>\n",
       "      <td>1</td>\n",
       "      <td>0</td>\n",
       "      <td>0</td>\n",
       "      <td>0</td>\n",
       "      <td>0</td>\n",
       "      <td>0</td>\n",
       "      <td>0</td>\n",
       "    </tr>\n",
       "  </tbody>\n",
       "</table>\n",
       "<p>5 rows × 101 columns</p>\n",
       "</div>"
      ],
      "text/plain": [
       "   time_left  ct_score  t_score  bomb_planted  ct_health  t_health  ct_armor  \\\n",
       "0     175.00       0.0      0.0             0      500.0     500.0       0.0   \n",
       "1     156.03       0.0      0.0             0      500.0     500.0     400.0   \n",
       "2      96.03       0.0      0.0             0      391.0     400.0     294.0   \n",
       "3      76.03       0.0      0.0             0      391.0     400.0     294.0   \n",
       "4     174.97       1.0      0.0             0      500.0     500.0     192.0   \n",
       "\n",
       "   t_armor  ct_money  t_money  ...  ct_grenade_decoygrenade  \\\n",
       "0      0.0    4000.0   4000.0  ...                      0.0   \n",
       "1    300.0     600.0    650.0  ...                      0.0   \n",
       "2    200.0     750.0    500.0  ...                      0.0   \n",
       "3    200.0     750.0    500.0  ...                      0.0   \n",
       "4      0.0   18350.0  10750.0  ...                      0.0   \n",
       "\n",
       "   t_grenade_decoygrenade  de_cache  de_dust2  de_inferno  de_mirage  de_nuke  \\\n",
       "0                     0.0         0         1           0          0        0   \n",
       "1                     0.0         0         1           0          0        0   \n",
       "2                     0.0         0         1           0          0        0   \n",
       "3                     0.0         0         1           0          0        0   \n",
       "4                     0.0         0         1           0          0        0   \n",
       "\n",
       "   de_overpass  de_train  de_vertigo  \n",
       "0            0         0           0  \n",
       "1            0         0           0  \n",
       "2            0         0           0  \n",
       "3            0         0           0  \n",
       "4            0         0           0  \n",
       "\n",
       "[5 rows x 101 columns]"
      ]
     },
     "execution_count": 68,
     "metadata": {},
     "output_type": "execute_result"
    }
   ],
   "source": [
    "data_raw = pd.concat((data_raw, map_dummies), axis=1)\n",
    "data_raw = data_raw.drop(['map'], axis=1)\n",
    "data_raw.head()"
   ]
  },
  {
   "cell_type": "markdown",
   "id": "dfacb11b",
   "metadata": {},
   "source": [
    "7. Проведем нормализацию:"
   ]
  },
  {
   "cell_type": "code",
   "execution_count": 69,
   "id": "12dc820c",
   "metadata": {
    "scrolled": true
   },
   "outputs": [
    {
     "data": {
      "text/html": [
       "<div>\n",
       "<style scoped>\n",
       "    .dataframe tbody tr th:only-of-type {\n",
       "        vertical-align: middle;\n",
       "    }\n",
       "\n",
       "    .dataframe tbody tr th {\n",
       "        vertical-align: top;\n",
       "    }\n",
       "\n",
       "    .dataframe thead th {\n",
       "        text-align: right;\n",
       "    }\n",
       "</style>\n",
       "<table border=\"1\" class=\"dataframe\">\n",
       "  <thead>\n",
       "    <tr style=\"text-align: right;\">\n",
       "      <th></th>\n",
       "      <th>time_left</th>\n",
       "      <th>ct_score</th>\n",
       "      <th>t_score</th>\n",
       "      <th>bomb_planted</th>\n",
       "      <th>ct_health</th>\n",
       "      <th>t_health</th>\n",
       "      <th>ct_armor</th>\n",
       "      <th>t_armor</th>\n",
       "      <th>ct_money</th>\n",
       "      <th>t_money</th>\n",
       "      <th>...</th>\n",
       "      <th>ct_grenade_decoygrenade</th>\n",
       "      <th>t_grenade_decoygrenade</th>\n",
       "      <th>de_cache</th>\n",
       "      <th>de_dust2</th>\n",
       "      <th>de_inferno</th>\n",
       "      <th>de_mirage</th>\n",
       "      <th>de_nuke</th>\n",
       "      <th>de_overpass</th>\n",
       "      <th>de_train</th>\n",
       "      <th>de_vertigo</th>\n",
       "    </tr>\n",
       "  </thead>\n",
       "  <tbody>\n",
       "    <tr>\n",
       "      <th>count</th>\n",
       "      <td>1.207100e+05</td>\n",
       "      <td>1.207100e+05</td>\n",
       "      <td>1.207100e+05</td>\n",
       "      <td>1.207100e+05</td>\n",
       "      <td>1.207100e+05</td>\n",
       "      <td>1.207100e+05</td>\n",
       "      <td>1.207100e+05</td>\n",
       "      <td>1.207100e+05</td>\n",
       "      <td>1.207100e+05</td>\n",
       "      <td>1.207100e+05</td>\n",
       "      <td>...</td>\n",
       "      <td>1.207100e+05</td>\n",
       "      <td>1.207100e+05</td>\n",
       "      <td>1.207100e+05</td>\n",
       "      <td>1.207100e+05</td>\n",
       "      <td>1.207100e+05</td>\n",
       "      <td>1.207100e+05</td>\n",
       "      <td>1.207100e+05</td>\n",
       "      <td>1.207100e+05</td>\n",
       "      <td>1.207100e+05</td>\n",
       "      <td>1.207100e+05</td>\n",
       "    </tr>\n",
       "    <tr>\n",
       "      <th>mean</th>\n",
       "      <td>-4.102000e-13</td>\n",
       "      <td>-4.702596e-16</td>\n",
       "      <td>8.192333e-15</td>\n",
       "      <td>3.325069e-15</td>\n",
       "      <td>-1.800337e-15</td>\n",
       "      <td>1.371819e-14</td>\n",
       "      <td>-1.199069e-15</td>\n",
       "      <td>-2.543538e-15</td>\n",
       "      <td>5.279643e-16</td>\n",
       "      <td>-3.383757e-16</td>\n",
       "      <td>...</td>\n",
       "      <td>1.017922e-14</td>\n",
       "      <td>1.133581e-14</td>\n",
       "      <td>-4.033119e-14</td>\n",
       "      <td>-1.095118e-14</td>\n",
       "      <td>-6.783445e-14</td>\n",
       "      <td>-2.078535e-14</td>\n",
       "      <td>1.458727e-13</td>\n",
       "      <td>4.309041e-14</td>\n",
       "      <td>9.288539e-15</td>\n",
       "      <td>-6.373790e-15</td>\n",
       "    </tr>\n",
       "    <tr>\n",
       "      <th>std</th>\n",
       "      <td>1.000000e+00</td>\n",
       "      <td>1.000000e+00</td>\n",
       "      <td>1.000000e+00</td>\n",
       "      <td>1.000000e+00</td>\n",
       "      <td>1.000000e+00</td>\n",
       "      <td>1.000000e+00</td>\n",
       "      <td>1.000000e+00</td>\n",
       "      <td>1.000000e+00</td>\n",
       "      <td>1.000000e+00</td>\n",
       "      <td>1.000000e+00</td>\n",
       "      <td>...</td>\n",
       "      <td>1.000000e+00</td>\n",
       "      <td>1.000000e+00</td>\n",
       "      <td>1.000000e+00</td>\n",
       "      <td>1.000000e+00</td>\n",
       "      <td>1.000000e+00</td>\n",
       "      <td>1.000000e+00</td>\n",
       "      <td>1.000000e+00</td>\n",
       "      <td>1.000000e+00</td>\n",
       "      <td>1.000000e+00</td>\n",
       "      <td>1.000000e+00</td>\n",
       "    </tr>\n",
       "    <tr>\n",
       "      <th>min</th>\n",
       "      <td>-1.798062e+00</td>\n",
       "      <td>-1.405320e+00</td>\n",
       "      <td>-1.408626e+00</td>\n",
       "      <td>-3.534003e-01</td>\n",
       "      <td>-3.126588e+00</td>\n",
       "      <td>-2.871204e+00</td>\n",
       "      <td>-1.851478e+00</td>\n",
       "      <td>-1.717329e+00</td>\n",
       "      <td>-9.040127e-01</td>\n",
       "      <td>-9.566225e-01</td>\n",
       "      <td>...</td>\n",
       "      <td>-1.641886e-01</td>\n",
       "      <td>-1.574603e-01</td>\n",
       "      <td>-3.455947e-02</td>\n",
       "      <td>-4.703617e-01</td>\n",
       "      <td>-4.909978e-01</td>\n",
       "      <td>-4.240939e-01</td>\n",
       "      <td>-4.280433e-01</td>\n",
       "      <td>-3.593939e-01</td>\n",
       "      <td>-3.523464e-01</td>\n",
       "      <td>-3.169291e-01</td>\n",
       "    </tr>\n",
       "    <tr>\n",
       "      <th>25%</th>\n",
       "      <td>-7.861968e-01</td>\n",
       "      <td>-7.734026e-01</td>\n",
       "      <td>-7.811959e-01</td>\n",
       "      <td>-3.534003e-01</td>\n",
       "      <td>-4.667367e-01</td>\n",
       "      <td>-5.874479e-01</td>\n",
       "      <td>-7.073294e-01</td>\n",
       "      <td>-7.075578e-01</td>\n",
       "      <td>-7.841390e-01</td>\n",
       "      <td>-8.199838e-01</td>\n",
       "      <td>...</td>\n",
       "      <td>-1.641886e-01</td>\n",
       "      <td>-1.574603e-01</td>\n",
       "      <td>-3.455947e-02</td>\n",
       "      <td>-4.703617e-01</td>\n",
       "      <td>-4.909978e-01</td>\n",
       "      <td>-4.240939e-01</td>\n",
       "      <td>-4.280433e-01</td>\n",
       "      <td>-3.593939e-01</td>\n",
       "      <td>-3.523464e-01</td>\n",
       "      <td>-3.169291e-01</td>\n",
       "    </tr>\n",
       "    <tr>\n",
       "      <th>50%</th>\n",
       "      <td>-4.927311e-02</td>\n",
       "      <td>-1.414848e-01</td>\n",
       "      <td>-1.537657e-01</td>\n",
       "      <td>-3.534003e-01</td>\n",
       "      <td>6.656000e-01</td>\n",
       "      <td>6.971647e-01</td>\n",
       "      <td>3.722774e-01</td>\n",
       "      <td>2.161536e-01</td>\n",
       "      <td>-3.909532e-01</td>\n",
       "      <td>-3.439524e-01</td>\n",
       "      <td>...</td>\n",
       "      <td>-1.641886e-01</td>\n",
       "      <td>-1.574603e-01</td>\n",
       "      <td>-3.455947e-02</td>\n",
       "      <td>-4.703617e-01</td>\n",
       "      <td>-4.909978e-01</td>\n",
       "      <td>-4.240939e-01</td>\n",
       "      <td>-4.280433e-01</td>\n",
       "      <td>-3.593939e-01</td>\n",
       "      <td>-3.523464e-01</td>\n",
       "      <td>-3.169291e-01</td>\n",
       "    </tr>\n",
       "    <tr>\n",
       "      <th>75%</th>\n",
       "      <td>1.277521e+00</td>\n",
       "      <td>7.010722e-01</td>\n",
       "      <td>6.828079e-01</td>\n",
       "      <td>-3.534003e-01</td>\n",
       "      <td>6.656000e-01</td>\n",
       "      <td>6.971647e-01</td>\n",
       "      <td>1.000092e+00</td>\n",
       "      <td>9.677450e-01</td>\n",
       "      <td>4.577528e-01</td>\n",
       "      <td>5.948874e-01</td>\n",
       "      <td>...</td>\n",
       "      <td>-1.641886e-01</td>\n",
       "      <td>-1.574603e-01</td>\n",
       "      <td>-3.455947e-02</td>\n",
       "      <td>-4.703617e-01</td>\n",
       "      <td>-4.909978e-01</td>\n",
       "      <td>-4.240939e-01</td>\n",
       "      <td>-4.280433e-01</td>\n",
       "      <td>-3.593939e-01</td>\n",
       "      <td>-3.523464e-01</td>\n",
       "      <td>-3.169291e-01</td>\n",
       "    </tr>\n",
       "    <tr>\n",
       "      <th>max</th>\n",
       "      <td>1.426601e+00</td>\n",
       "      <td>5.335136e+00</td>\n",
       "      <td>5.493106e+00</td>\n",
       "      <td>2.829629e+00</td>\n",
       "      <td>6.656000e-01</td>\n",
       "      <td>1.410838e+00</td>\n",
       "      <td>1.082236e+00</td>\n",
       "      <td>1.151340e+00</td>\n",
       "      <td>4.504690e+00</td>\n",
       "      <td>3.913884e+00</td>\n",
       "      <td>...</td>\n",
       "      <td>1.744245e+01</td>\n",
       "      <td>1.197598e+01</td>\n",
       "      <td>2.893539e+01</td>\n",
       "      <td>2.126006e+00</td>\n",
       "      <td>2.036652e+00</td>\n",
       "      <td>2.357949e+00</td>\n",
       "      <td>2.336193e+00</td>\n",
       "      <td>2.782439e+00</td>\n",
       "      <td>2.838092e+00</td>\n",
       "      <td>3.155254e+00</td>\n",
       "    </tr>\n",
       "  </tbody>\n",
       "</table>\n",
       "<p>8 rows × 101 columns</p>\n",
       "</div>"
      ],
      "text/plain": [
       "          time_left      ct_score       t_score  bomb_planted     ct_health  \\\n",
       "count  1.207100e+05  1.207100e+05  1.207100e+05  1.207100e+05  1.207100e+05   \n",
       "mean  -4.102000e-13 -4.702596e-16  8.192333e-15  3.325069e-15 -1.800337e-15   \n",
       "std    1.000000e+00  1.000000e+00  1.000000e+00  1.000000e+00  1.000000e+00   \n",
       "min   -1.798062e+00 -1.405320e+00 -1.408626e+00 -3.534003e-01 -3.126588e+00   \n",
       "25%   -7.861968e-01 -7.734026e-01 -7.811959e-01 -3.534003e-01 -4.667367e-01   \n",
       "50%   -4.927311e-02 -1.414848e-01 -1.537657e-01 -3.534003e-01  6.656000e-01   \n",
       "75%    1.277521e+00  7.010722e-01  6.828079e-01 -3.534003e-01  6.656000e-01   \n",
       "max    1.426601e+00  5.335136e+00  5.493106e+00  2.829629e+00  6.656000e-01   \n",
       "\n",
       "           t_health      ct_armor       t_armor      ct_money       t_money  \\\n",
       "count  1.207100e+05  1.207100e+05  1.207100e+05  1.207100e+05  1.207100e+05   \n",
       "mean   1.371819e-14 -1.199069e-15 -2.543538e-15  5.279643e-16 -3.383757e-16   \n",
       "std    1.000000e+00  1.000000e+00  1.000000e+00  1.000000e+00  1.000000e+00   \n",
       "min   -2.871204e+00 -1.851478e+00 -1.717329e+00 -9.040127e-01 -9.566225e-01   \n",
       "25%   -5.874479e-01 -7.073294e-01 -7.075578e-01 -7.841390e-01 -8.199838e-01   \n",
       "50%    6.971647e-01  3.722774e-01  2.161536e-01 -3.909532e-01 -3.439524e-01   \n",
       "75%    6.971647e-01  1.000092e+00  9.677450e-01  4.577528e-01  5.948874e-01   \n",
       "max    1.410838e+00  1.082236e+00  1.151340e+00  4.504690e+00  3.913884e+00   \n",
       "\n",
       "       ...  ct_grenade_decoygrenade  t_grenade_decoygrenade      de_cache  \\\n",
       "count  ...             1.207100e+05            1.207100e+05  1.207100e+05   \n",
       "mean   ...             1.017922e-14            1.133581e-14 -4.033119e-14   \n",
       "std    ...             1.000000e+00            1.000000e+00  1.000000e+00   \n",
       "min    ...            -1.641886e-01           -1.574603e-01 -3.455947e-02   \n",
       "25%    ...            -1.641886e-01           -1.574603e-01 -3.455947e-02   \n",
       "50%    ...            -1.641886e-01           -1.574603e-01 -3.455947e-02   \n",
       "75%    ...            -1.641886e-01           -1.574603e-01 -3.455947e-02   \n",
       "max    ...             1.744245e+01            1.197598e+01  2.893539e+01   \n",
       "\n",
       "           de_dust2    de_inferno     de_mirage       de_nuke   de_overpass  \\\n",
       "count  1.207100e+05  1.207100e+05  1.207100e+05  1.207100e+05  1.207100e+05   \n",
       "mean  -1.095118e-14 -6.783445e-14 -2.078535e-14  1.458727e-13  4.309041e-14   \n",
       "std    1.000000e+00  1.000000e+00  1.000000e+00  1.000000e+00  1.000000e+00   \n",
       "min   -4.703617e-01 -4.909978e-01 -4.240939e-01 -4.280433e-01 -3.593939e-01   \n",
       "25%   -4.703617e-01 -4.909978e-01 -4.240939e-01 -4.280433e-01 -3.593939e-01   \n",
       "50%   -4.703617e-01 -4.909978e-01 -4.240939e-01 -4.280433e-01 -3.593939e-01   \n",
       "75%   -4.703617e-01 -4.909978e-01 -4.240939e-01 -4.280433e-01 -3.593939e-01   \n",
       "max    2.126006e+00  2.036652e+00  2.357949e+00  2.336193e+00  2.782439e+00   \n",
       "\n",
       "           de_train    de_vertigo  \n",
       "count  1.207100e+05  1.207100e+05  \n",
       "mean   9.288539e-15 -6.373790e-15  \n",
       "std    1.000000e+00  1.000000e+00  \n",
       "min   -3.523464e-01 -3.169291e-01  \n",
       "25%   -3.523464e-01 -3.169291e-01  \n",
       "50%   -3.523464e-01 -3.169291e-01  \n",
       "75%   -3.523464e-01 -3.169291e-01  \n",
       "max    2.838092e+00  3.155254e+00  \n",
       "\n",
       "[8 rows x 101 columns]"
      ]
     },
     "execution_count": 69,
     "metadata": {},
     "output_type": "execute_result"
    }
   ],
   "source": [
    "data_stand = (data_raw - data_raw.mean(axis = 0))/data_raw.std(axis = 0)\n",
    "data_stand.describe()"
   ]
  },
  {
   "cell_type": "markdown",
   "id": "2e0205dd",
   "metadata": {},
   "source": [
    "8. Разбиваем данные на тестовую и обучающую сборки:"
   ]
  },
  {
   "cell_type": "code",
   "execution_count": 70,
   "id": "f48ca113",
   "metadata": {},
   "outputs": [
    {
     "data": {
      "text/plain": [
       "0         CT\n",
       "1         CT\n",
       "2         CT\n",
       "3         CT\n",
       "4         CT\n",
       "          ..\n",
       "122405     T\n",
       "122406     T\n",
       "122407     T\n",
       "122408     T\n",
       "122409     T\n",
       "Name: round_winner, Length: 120710, dtype: category\n",
       "Categories (2, object): ['CT', 'T']"
      ]
     },
     "execution_count": 70,
     "metadata": {},
     "output_type": "execute_result"
    }
   ],
   "source": [
    "X = data_stand\n",
    "y"
   ]
  },
  {
   "cell_type": "code",
   "execution_count": 71,
   "id": "f9dee6d0",
   "metadata": {},
   "outputs": [
    {
     "data": {
      "text/plain": [
       "array([[False, False, False, ..., False, False, False],\n",
       "       [False, False, False, ..., False, False, False],\n",
       "       [False, False, False, ..., False, False, False],\n",
       "       ...,\n",
       "       [False, False, False, ..., False, False, False],\n",
       "       [False, False, False, ..., False, False, False],\n",
       "       [False, False, False, ..., False, False, False]])"
      ]
     },
     "execution_count": 71,
     "metadata": {},
     "output_type": "execute_result"
    }
   ],
   "source": [
    "X = X.to_numpy(dtype='f')\n",
    "np.isnan(X)"
   ]
  },
  {
   "cell_type": "code",
   "execution_count": 72,
   "id": "71e1922a",
   "metadata": {},
   "outputs": [
    {
     "data": {
      "text/plain": [
       "(array([     0,      0,      0, ..., 120709, 120709, 120709], dtype=int64),\n",
       " array([19, 27, 34, ..., 49, 55, 57], dtype=int64))"
      ]
     },
     "execution_count": 72,
     "metadata": {},
     "output_type": "execute_result"
    }
   ],
   "source": [
    "np.where(np.isnan(X))"
   ]
  },
  {
   "cell_type": "code",
   "execution_count": 73,
   "id": "e86d1c19",
   "metadata": {},
   "outputs": [],
   "source": [
    "X = np.nan_to_num(X)"
   ]
  },
  {
   "cell_type": "code",
   "execution_count": 74,
   "id": "b0c107be",
   "metadata": {},
   "outputs": [
    {
     "data": {
      "text/plain": [
       "(array([], dtype=int64), array([], dtype=int64))"
      ]
     },
     "execution_count": 74,
     "metadata": {},
     "output_type": "execute_result"
    }
   ],
   "source": [
    "np.where(np.isnan(X))"
   ]
  },
  {
   "cell_type": "code",
   "execution_count": 75,
   "id": "1244f73d",
   "metadata": {},
   "outputs": [
    {
     "data": {
      "text/plain": [
       "array([0, 0, 0, ..., 1, 1, 1])"
      ]
     },
     "execution_count": 75,
     "metadata": {},
     "output_type": "execute_result"
    }
   ],
   "source": [
    "y = np.array(y != 'CT', dtype='int')\n",
    "y"
   ]
  },
  {
   "cell_type": "code",
   "execution_count": 76,
   "id": "2d8883bb",
   "metadata": {},
   "outputs": [
    {
     "name": "stdout",
     "output_type": "stream",
     "text": [
      "(120710, 101)\n",
      "(120710,)\n"
     ]
    }
   ],
   "source": [
    "print(X.shape)\n",
    "print(y.shape)\n",
    "N, d = X.shape"
   ]
  },
  {
   "cell_type": "code",
   "execution_count": 77,
   "id": "137f0d3c",
   "metadata": {},
   "outputs": [
    {
     "name": "stdout",
     "output_type": "stream",
     "text": [
      "90532 30178\n"
     ]
    }
   ],
   "source": [
    "from sklearn.model_selection import train_test_split\n",
    "X_train, X_test, y_train, y_test = train_test_split(X, y, test_size = 0.25, random_state = 42)\n",
    "\n",
    "N_train, _ = X_train.shape \n",
    "N_test,  _ = X_test.shape \n",
    "\n",
    "print(N_train, N_test)"
   ]
  },
  {
   "cell_type": "markdown",
   "id": "157493e5",
   "metadata": {},
   "source": [
    "9. Классификация. Нейронные сети - MLP"
   ]
  },
  {
   "cell_type": "code",
   "execution_count": 78,
   "id": "e66c9457",
   "metadata": {},
   "outputs": [
    {
     "data": {
      "text/plain": [
       "MLPClassifier(max_iter=1000, random_state=42)"
      ]
     },
     "execution_count": 78,
     "metadata": {},
     "output_type": "execute_result"
    }
   ],
   "source": [
    "from sklearn.neural_network import MLPClassifier\n",
    "mlp_model = MLPClassifier(hidden_layer_sizes=(100,),\n",
    "                          solver='adam',\n",
    "                          activation='relu',\n",
    "                          random_state=42,\n",
    "                          max_iter=1000)\n",
    "mlp_model.fit(X_train, y_train)"
   ]
  },
  {
   "cell_type": "code",
   "execution_count": 79,
   "id": "b3626b98",
   "metadata": {},
   "outputs": [
    {
     "data": {
      "text/plain": [
       "(0.12408872001060399, 0.1891112731128637)"
      ]
     },
     "execution_count": 79,
     "metadata": {},
     "output_type": "execute_result"
    }
   ],
   "source": [
    "y_train_pred = mlp_model.predict(X_train)\n",
    "y_test_pred = mlp_model.predict(X_test)\n",
    "np.mean(y_train != y_train_pred), np.mean(y_test != y_test_pred)"
   ]
  },
  {
   "cell_type": "code",
   "execution_count": 80,
   "id": "182d2c7e",
   "metadata": {},
   "outputs": [
    {
     "data": {
      "text/plain": [
       "0.875911279989396"
      ]
     },
     "execution_count": 80,
     "metadata": {},
     "output_type": "execute_result"
    }
   ],
   "source": [
    "from sklearn.metrics import accuracy_score\n",
    "accuracy_score(y_train, y_train_pred)"
   ]
  },
  {
   "cell_type": "code",
   "execution_count": 81,
   "id": "0392b176",
   "metadata": {},
   "outputs": [
    {
     "data": {
      "text/plain": [
       "0.8108887268871363"
      ]
     },
     "execution_count": 81,
     "metadata": {},
     "output_type": "execute_result"
    }
   ],
   "source": [
    "accuracy_score(y_test, y_test_pred)"
   ]
  },
  {
   "cell_type": "markdown",
   "id": "f93a7bd9",
   "metadata": {},
   "source": [
    "Точность тренировочной выборки сравнима с точностью тестовой. Посмотрим, cможем ли мы улучшить полученный результат:"
   ]
  },
  {
   "cell_type": "code",
   "execution_count": 82,
   "id": "15b885e0",
   "metadata": {},
   "outputs": [],
   "source": [
    "alpha_arr = np.logspace(-3, 2, 20)\n",
    "test_err = []\n",
    "train_err = []\n",
    "train_acc = []\n",
    "test_acc = []\n",
    "\n",
    "for alpha in alpha_arr:\n",
    "    mlp_model = MLPClassifier(alpha = alpha, \n",
    "                              hidden_layer_sizes=(100,),\n",
    "                              solver='adam',\n",
    "                              activation='relu',\n",
    "                              random_state=42,\n",
    "                              max_iter=1000)\n",
    "    mlp_model.fit(X_train, y_train)\n",
    "\n",
    "    y_train_pred = mlp_model.predict(X_train)\n",
    "    y_test_pred = mlp_model.predict(X_test)\n",
    "    \n",
    "    train_err.append(np.mean(y_train != y_train_pred))\n",
    "    test_err.append(np.mean(y_test != y_test_pred))\n",
    "    train_acc.append(accuracy_score(y_train, y_train_pred))\n",
    "    test_acc.append(accuracy_score(y_test, y_test_pred))"
   ]
  },
  {
   "cell_type": "code",
   "execution_count": 83,
   "id": "bd297f88",
   "metadata": {},
   "outputs": [
    {
     "data": {
      "text/plain": [
       "<matplotlib.legend.Legend at 0x230a57f1fd0>"
      ]
     },
     "execution_count": 83,
     "metadata": {},
     "output_type": "execute_result"
    },
    {
     "data": {
      "image/png": "[encoded data removed]",
      "text/plain": [
       "<Figure size 432x288 with 1 Axes>"
      ]
     },
     "metadata": {
      "needs_background": "light"
     },
     "output_type": "display_data"
    }
   ],
   "source": [
    "plt.semilogx(alpha_arr, train_err, 'b-o', label = 'train')\n",
    "plt.semilogx(alpha_arr, test_err, 'r-o', label = 'test')\n",
    "plt.xlim([np.min(alpha_arr), np.max(alpha_arr)])\n",
    "plt.title('Error vs. alpha')\n",
    "plt.xlabel('alpha')\n",
    "plt.ylabel('error')\n",
    "plt.legend()"
   ]
  },
  {
   "cell_type": "code",
   "execution_count": 84,
   "id": "62d0effb",
   "metadata": {},
   "outputs": [
    {
     "data": {
      "text/plain": [
       "<matplotlib.legend.Legend at 0x230a53df6d0>"
      ]
     },
     "execution_count": 84,
     "metadata": {},
     "output_type": "execute_result"
    },
    {
     "data": {
      "image/png": "[encoded data removed]",
      "text/plain": [
       "<Figure size 432x288 with 1 Axes>"
      ]
     },
     "metadata": {
      "needs_background": "light"
     },
     "output_type": "display_data"
    }
   ],
   "source": [
    "plt.semilogx(alpha_arr, train_acc, 'r-o', label='train')\n",
    "plt.semilogx(alpha_arr, test_acc, 'b-o', label='test')\n",
    "plt.xlim([np.min(alpha_arr), np.max(alpha_arr)])\n",
    "plt.title('Accuracy vs. alpha')\n",
    "plt.xlabel('alpha')\n",
    "plt.ylabel('Accuracy')\n",
    "plt.legend()"
   ]
  },
  {
   "cell_type": "markdown",
   "id": "7ee20471",
   "metadata": {},
   "source": [
    "На графике видно, что при alpha < 1 происходит переобучение модели. Минимальное значение ошибки:"
   ]
  },
  {
   "cell_type": "code",
   "execution_count": 85,
   "id": "740ae8e7",
   "metadata": {},
   "outputs": [
    {
     "name": "stdout",
     "output_type": "stream",
     "text": [
      "0.1218574647638404 0.1846046789051627\n"
     ]
    }
   ],
   "source": [
    "min_train_err = np.min(train_err)\n",
    "min_test_err = np.min(test_err)\n",
    "print(min_train_err, min_test_err)"
   ]
  },
  {
   "cell_type": "markdown",
   "id": "e588e041",
   "metadata": {},
   "source": [
    "Найдем оптимальное значение параметра регуляции:"
   ]
  },
  {
   "cell_type": "code",
   "execution_count": 86,
   "id": "c14901ba",
   "metadata": {},
   "outputs": [
    {
     "name": "stdout",
     "output_type": "stream",
     "text": [
      "[0.00615848]\n"
     ]
    }
   ],
   "source": [
    "alpha_opt = alpha_arr[test_err == min_test_err]\n",
    "print(alpha_opt)"
   ]
  },
  {
   "cell_type": "markdown",
   "id": "8f38682f",
   "metadata": {},
   "source": [
    "Классификатор с оптимальным значением параметра регуляции"
   ]
  },
  {
   "cell_type": "code",
   "execution_count": 87,
   "id": "5c5193c0",
   "metadata": {},
   "outputs": [
    {
     "name": "stdout",
     "output_type": "stream",
     "text": [
      "0.12782220651261433\n",
      "0.18838226522632381\n"
     ]
    }
   ],
   "source": [
    "alpha_opt = alpha_opt[0]\n",
    "mlp_model = MLPClassifier(alpha = alpha_opt, hidden_layer_sizes = (100,), random_state = 42)\n",
    "mlp_model.fit(X_train, y_train)\n",
    "\n",
    "y_train_pred = mlp_model.predict(X_train)\n",
    "y_test_pred = mlp_model.predict(X_test)\n",
    "print(np.mean(y_train != y_train_pred))\n",
    "print(np.mean(y_test != y_test_pred))"
   ]
  },
  {
   "cell_type": "markdown",
   "id": "f176500d",
   "metadata": {},
   "source": [
    "Точность обучающей и тестовой выборки:"
   ]
  },
  {
   "cell_type": "code",
   "execution_count": 88,
   "id": "1b91aad1",
   "metadata": {},
   "outputs": [
    {
     "data": {
      "text/plain": [
       "0.8721777934873857"
      ]
     },
     "execution_count": 88,
     "metadata": {},
     "output_type": "execute_result"
    }
   ],
   "source": [
    "accuracy_score(y_train, y_train_pred)"
   ]
  },
  {
   "cell_type": "code",
   "execution_count": 89,
   "id": "79ffbb49",
   "metadata": {},
   "outputs": [
    {
     "data": {
      "text/plain": [
       "0.8116177347736762"
      ]
     },
     "execution_count": 89,
     "metadata": {},
     "output_type": "execute_result"
    }
   ],
   "source": [
    "accuracy_score(y_test, y_test_pred)"
   ]
  },
  {
   "cell_type": "markdown",
   "id": "a18afd9a",
   "metadata": {},
   "source": [
    "Подбор оптимального числа нейронов:"
   ]
  },
  {
   "cell_type": "code",
   "execution_count": 90,
   "id": "cc16e603",
   "metadata": {},
   "outputs": [],
   "source": [
    "neuron_arr = np.linspace(10, 500, 10).astype(int)\n",
    "test_error = []\n",
    "train_error = []\n",
    "test_acc = []\n",
    "train_acc = []\n",
    "\n",
    "for count in neuron_arr:\n",
    "  mlp_model = MLPClassifier(alpha=alpha_opt, hidden_layer_sizes=(count,), max_iter=1000, random_state=42)\n",
    "  mlp_model.fit(X_train, y_train)\n",
    "  \n",
    "  y_train_pred = mlp_model.predict(X_train)\n",
    "  y_test_pred = mlp_model.predict(X_test)\n",
    "  \n",
    "  test_error.append(np.mean(y_test != y_test_pred))\n",
    "  train_error.append(np.mean(y_train != y_train_pred))\n",
    "  test_acc.append(accuracy_score(y_test, y_test_pred))\n",
    "  train_acc.append(accuracy_score(y_train, y_train_pred))"
   ]
  },
  {
   "cell_type": "code",
   "execution_count": 91,
   "id": "cfbfa971",
   "metadata": {},
   "outputs": [
    {
     "data": {
      "text/plain": [
       "<matplotlib.legend.Legend at 0x230a585f580>"
      ]
     },
     "execution_count": 91,
     "metadata": {},
     "output_type": "execute_result"
    },
    {
     "data": {
      "image/png": "[encoded data removed]",
      "text/plain": [
       "<Figure size 432x288 with 1 Axes>"
      ]
     },
     "metadata": {
      "needs_background": "light"
     },
     "output_type": "display_data"
    }
   ],
   "source": [
    "plt.plot(neuron_arr, train_error, 'r-o', label='train')\n",
    "plt.plot(neuron_arr, test_error, 'b-o', label='test')\n",
    "plt.xlim([np.min(neuron_arr), np.max(neuron_arr)])\n",
    "plt.xlabel('neuron count')\n",
    "plt.ylabel('error')\n",
    "plt.legend()"
   ]
  },
  {
   "cell_type": "code",
   "execution_count": 92,
   "id": "1f700e62",
   "metadata": {},
   "outputs": [
    {
     "data": {
      "text/plain": [
       "<matplotlib.legend.Legend at 0x230a5036fa0>"
      ]
     },
     "execution_count": 92,
     "metadata": {},
     "output_type": "execute_result"
    },
    {
     "data": {
      "image/png": "[encoded data removed]",
      "text/plain": [
       "<Figure size 432x288 with 1 Axes>"
      ]
     },
     "metadata": {
      "needs_background": "light"
     },
     "output_type": "display_data"
    }
   ],
   "source": [
    "plt.plot(neuron_arr, train_acc, 'r-o', label='train')\n",
    "plt.plot(neuron_arr, test_acc, 'b-o', label='test')\n",
    "plt.xlim([np.min(neuron_arr), np.max(neuron_arr)])\n",
    "plt.xlabel('neuron count')\n",
    "plt.ylabel('accuracy')\n",
    "plt.legend()"
   ]
  },
  {
   "cell_type": "markdown",
   "id": "80b15a8b",
   "metadata": {},
   "source": [
    "Минимальное значение ошибки:"
   ]
  },
  {
   "cell_type": "code",
   "execution_count": 94,
   "id": "00951bbd",
   "metadata": {},
   "outputs": [
    {
     "name": "stdout",
     "output_type": "stream",
     "text": [
      "0.026200680422392084 0.13151965007621447\n"
     ]
    }
   ],
   "source": [
    "min_train_error = np.min(train_error)\n",
    "min_test_error = np.min(test_error)\n",
    "print(min_train_error, min_test_error)"
   ]
  },
  {
   "cell_type": "code",
   "execution_count": 95,
   "id": "e9f12b39",
   "metadata": {},
   "outputs": [
    {
     "name": "stdout",
     "output_type": "stream",
     "text": [
      "[500]\n"
     ]
    }
   ],
   "source": [
    "neuron_opt = neuron_arr[test_error == min_test_error]\n",
    "print(neuron_opt)"
   ]
  },
  {
   "cell_type": "markdown",
   "id": "b5afa66d",
   "metadata": {},
   "source": [
    "Нет явной зависимости точности от числа нейронов, но мы можем видеть, что наилучшая точность достигается при количестве нейронов равном 173."
   ]
  },
  {
   "cell_type": "markdown",
   "id": "99ef9af5",
   "metadata": {},
   "source": [
    "Классификатор при оптимальном значении параметра регуляризации и числа нейронов"
   ]
  },
  {
   "cell_type": "code",
   "execution_count": 96,
   "id": "d6130a6a",
   "metadata": {},
   "outputs": [
    {
     "name": "stdout",
     "output_type": "stream",
     "text": [
      "0.03195555162815358\n",
      "0.13410431440121942\n"
     ]
    }
   ],
   "source": [
    "neuron_opt = neuron_opt[0]\n",
    "mlp_model = MLPClassifier(alpha = alpha_opt, hidden_layer_sizes = (neuron_opt,), random_state = 42)\n",
    "mlp_model.fit(X_train, y_train)\n",
    "\n",
    "y_train_pred = mlp_model.predict(X_train)\n",
    "y_test_pred = mlp_model.predict(X_test)\n",
    "print(np.mean(y_train != y_train_pred))\n",
    "print(np.mean(y_test != y_test_pred))"
   ]
  },
  {
   "cell_type": "code",
   "execution_count": 97,
   "id": "c6a4d606",
   "metadata": {},
   "outputs": [
    {
     "data": {
      "text/plain": [
       "0.9680444483718464"
      ]
     },
     "execution_count": 97,
     "metadata": {},
     "output_type": "execute_result"
    }
   ],
   "source": [
    "accuracy_score(y_train, y_train_pred)"
   ]
  },
  {
   "cell_type": "code",
   "execution_count": 98,
   "id": "f5574295",
   "metadata": {},
   "outputs": [
    {
     "data": {
      "text/plain": [
       "0.8658956855987806"
      ]
     },
     "execution_count": 98,
     "metadata": {},
     "output_type": "execute_result"
    }
   ],
   "source": [
    "accuracy_score(y_test, y_test_pred)"
   ]
  },
  {
   "cell_type": "markdown",
   "id": "858201d5",
   "metadata": {},
   "source": [
    "Выводы:\n",
    "Недообучение не наблюдается\n",
    "Переобучение при alpha < 1\n",
    "В ходе подбора параметров мы незначительно снизили точность на обучающей выборке, но повысили на тестовой"
   ]
  },
  {
   "cell_type": "code",
   "execution_count": null,
   "id": "776dcca2",
   "metadata": {},
   "outputs": [],
   "source": []
  }
 ],
 "metadata": {
  "kernelspec": {
   "display_name": "Python 3",
   "language": "python",
   "name": "python3"
  }
 },
 "nbformat": 4,
 "nbformat_minor": 5
}
